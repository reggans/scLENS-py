{
  "cells": [
    {
      "cell_type": "code",
      "execution_count": 1,
      "metadata": {
        "id": "ohyVi4n_MXvY"
      },
      "outputs": [
        {
          "name": "stderr",
          "output_type": "stream",
          "text": [
            "/home/sclens/miniconda3/envs/sclens/lib/python3.11/site-packages/tqdm/auto.py:21: TqdmWarning: IProgress not found. Please update jupyter and ipywidgets. See https://ipywidgets.readthedocs.io/en/stable/user_install.html\n",
            "  from .autonotebook import tqdm as notebook_tqdm\n",
            "/home/sclens/miniconda3/envs/sclens/lib/python3.11/site-packages/dask/dataframe/__init__.py:31: FutureWarning: \n",
            "Dask dataframe query planning is disabled because dask-expr is not installed.\n",
            "\n",
            "You can install it with `pip install dask[dataframe]` or `conda install dask`.\n",
            "This will raise in a future version.\n",
            "\n",
            "  warnings.warn(msg, FutureWarning)\n",
            "/home/sclens/miniconda3/envs/sclens/lib/python3.11/site-packages/numba/np/ufunc/dufunc.py:343: NumbaWarning: Compilation requested for previously compiled argument types ((uint32,)). This has no effect and perhaps indicates a bug in the calling code (compiling a ufunc more than once for the same signature\n",
            "  warnings.warn(msg, errors.NumbaWarning)\n",
            "/home/sclens/miniconda3/envs/sclens/lib/python3.11/site-packages/numba/np/ufunc/dufunc.py:343: NumbaWarning: Compilation requested for previously compiled argument types ((uint32,)). This has no effect and perhaps indicates a bug in the calling code (compiling a ufunc more than once for the same signature\n",
            "  warnings.warn(msg, errors.NumbaWarning)\n",
            "/home/sclens/miniconda3/envs/sclens/lib/python3.11/site-packages/numba/np/ufunc/dufunc.py:343: NumbaWarning: Compilation requested for previously compiled argument types ((uint32,)). This has no effect and perhaps indicates a bug in the calling code (compiling a ufunc more than once for the same signature\n",
            "  warnings.warn(msg, errors.NumbaWarning)\n"
          ]
        }
      ],
      "source": [
        "import numpy as np\n",
        "import pandas as pd\n",
        "import torch\n",
        "from scLENS import scLENS\n",
        "\n",
        "import cProfile, pstats\n",
        "import umap\n",
        "import umap.plot\n",
        "\n",
        "from sklearn.metrics import rand_score, normalized_mutual_info_score\n",
        "from clusim.clustering import Clustering\n",
        "import clusim.sim as sim\n",
        "\n",
        "import matplotlib.pyplot as plt\n",
        "import seaborn as sns\n",
        "\n",
        "import re\n",
        "from scLENS.clustering import scSHC, find_clusters\n",
        "import anndata\n",
        "import scanpy as sc"
      ]
    },
    {
      "cell_type": "markdown",
      "metadata": {
        "id": "7VWhvGzBhdGx"
      },
      "source": [
        "# Params"
      ]
    },
    {
      "cell_type": "code",
      "execution_count": 2,
      "metadata": {
        "id": "oQyDMPuZ_2IE"
      },
      "outputs": [],
      "source": [
        "  # Method-agnostic hyperparameters\n",
        "params = {'resolutions': np.arange(0.1, 2, 0.1), #np.arange(0.05, 2, 0.05), # [0.3, 0.5, 0.8, 1, 1.2, 1.6, 2, 4, 6, 8],\n",
        "          'reps': 10,\n",
        "          'n_jobs': -1}"
      ]
    },
    {
      "cell_type": "code",
      "execution_count": 3,
      "metadata": {
        "id": "_OWlhnQl8e2t"
      },
      "outputs": [],
      "source": [
        "colors = ['tab:blue','tab:orange','tab:green','tab:red','tab:purple','tab:brown','tab:pink','tab:gray', 'tab:olive', 'tab:cyan', 'k']"
      ]
    },
    {
      "cell_type": "markdown",
      "metadata": {
        "id": "AL4xJSm2hfoZ"
      },
      "source": [
        "# Display Helper"
      ]
    },
    {
      "cell_type": "code",
      "execution_count": 4,
      "metadata": {
        "id": "djMeyum4R-vX"
      },
      "outputs": [],
      "source": [
        "def display_mappings(X, clusterings, names):\n",
        "  mapper = umap.UMAP(metric='cosine').fit_transform(X)\n",
        "\n",
        "  fig, axs = plt.subplots(1, len(clusterings), figsize=(40, 10))\n",
        "  for ax, cls in enumerate(clusterings):\n",
        "    labels = np.unique(cls)\n",
        "    for i, l in enumerate(labels):\n",
        "      idx = np.where(cls == l)\n",
        "      axs[ax].scatter(mapper[idx, 0], mapper[idx, 1], s=2, label=l)\n",
        "\n",
        "    axs[ax].legend()\n",
        "    axs[ax].set_xlabel('UMAP1')\n",
        "    axs[ax].set_ylabel('UMAP2')\n",
        "    axs[ax].tick_params(axis='both',\n",
        "                  which='both',\n",
        "                  bottom=False,\n",
        "                  top=False,\n",
        "                  labelbottom=False,\n",
        "                  labelleft=False)\n",
        "    axs[ax].set_title(names[ax])\n",
        "  plt.show()"
      ]
    },
    {
      "cell_type": "markdown",
      "metadata": {
        "id": "7lVb55s6hhmy"
      },
      "source": [
        "# Evaluate Func"
      ]
    },
    {
      "cell_type": "code",
      "execution_count": 5,
      "metadata": {
        "id": "v7pEdOWbtNRy"
      },
      "outputs": [],
      "source": [
        "def evaluate(filepaths, save_scl, save_noscl, overwrite=False, **params):\n",
        "  scl_pool, noscl_pool = [], []\n",
        "\n",
        "  for file in filepaths:\n",
        "    if overwrite or save.loc[file].isnull().all():\n",
        "      print(file)\n",
        "      df = pd.read_csv(file)\n",
        "      y_true_full = df['cell']\n",
        "      df = df.drop('cell', axis=1)\n",
        "\n",
        "      sclens = scLENS(device=torch.device('cuda:0'))\n",
        "      sclens.preprocess(df)\n",
        "      X_transform = sclens.fit_transform()\n",
        "\n",
        "      adata = anndata.AnnData(X=df, obs=pd.DataFrame(y_true_full))\n",
        "\n",
        "      sc.pp.filter_cells(adata, min_genes=200)\n",
        "      sc.pp.filter_genes(adata, min_cells=3)\n",
        "\n",
        "      sc.pp.calculate_qc_metrics(adata, percent_top=None, log1p=False, inplace=True)\n",
        "\n",
        "      kept_cells = adata.obs.n_genes_by_counts.values < 2500\n",
        "      adata = adata[adata.obs.n_genes_by_counts < 2500, :]\n",
        "\n",
        "      sc.pp.normalize_total(adata, target_sum=1e4)\n",
        "      sc.pp.log1p(adata)\n",
        "      sc.pp.highly_variable_genes(adata, min_mean=0.0125, max_mean=3, min_disp=0.5)\n",
        "      adata = adata[:, adata.var.highly_variable]\n",
        "      sc.pp.scale(adata, max_value=10)\n",
        "\n",
        "      sc.tl.pca(adata, svd_solver='arpack')\n",
        "\n",
        "      X = df.values[kept_cells]\n",
        "      X_transform = adata.obsm['X_pca']\n",
        "      y_true = adata.obs['cell']\n",
        "\n",
        "      sch_scl = sclens.cluster(df, method='scSHC', n_jobs=-1)\n",
        "      sch_noscl = scSHC(X, X_transform, n_jobs=-1)\n",
        "\n",
        "      sch_full = np.zeros_like(y_true_full) - 1\n",
        "      sch_full[kept_cells] = sch_noscl\n",
        "\n",
        "      sch_cls_noscl = Clustering().from_membership_list(sch_full)\n",
        "      sch_cls_scl = Clustering().from_membership_list(sch_scl)\n",
        "      true_cls = Clustering().from_membership_list(y_true_full)\n",
        "\n",
        "      # display_mappings(X_transform, [y_true, sch_noscl, sch_scl], ['True', 'scSHC', 'scLENS + scSHC'])\n",
        "\n",
        "      noscl_score = sim.element_sim(true_cls, sch_cls_noscl)\n",
        "      scl_score = sim.element_sim(true_cls, sch_cls_scl)\n",
        "\n",
        "      scl_pool.append(scl_score)\n",
        "      noscl_pool.append(noscl_score)\n",
        "\n",
        "      scores = {'scSHC': noscl_score, 'scLENS + scSHC': scl_score}\n",
        "      schemes = ['Element-Centric Clustering']\n",
        "\n",
        "      x = np.arange(len(schemes))\n",
        "      width = 0.25\n",
        "      multiplier = 0\n",
        "\n",
        "      fig, ax = plt.subplots(layout='constrained')\n",
        "\n",
        "      for name, val in scores.items():\n",
        "          offset = width * multiplier\n",
        "          rects = ax.bar(x + offset, val, width, label=name)\n",
        "          ax.bar_label(rects, padding=2)\n",
        "          multiplier += 1\n",
        "\n",
        "      ax.set_ylabel('Score')\n",
        "      ax.set_title(' '.join(file.split('/')[2:]))\n",
        "      ax.set_xticks(x + width/2, schemes)\n",
        "      ax.legend(loc='upper right', ncols=2)\n",
        "\n",
        "      plt.show()\n",
        "      del sclens\n",
        "      torch.cuda.empty_cache()\n",
        "\n",
        "      save_scl.loc[file, 'ECC'] = scl_score\n",
        "      save_noscl.loc[file, 'ECC'] = noscl_score\n",
        "      save_scl.to_csv('scSHC_scores.csv')\n",
        "      save_noscl.to_csv('scSHC_nosclens_scores.csv')\n",
        "\n",
        "  return scl_pool, noscl_pool"
      ]
    },
    {
      "cell_type": "markdown",
      "metadata": {
        "id": "ROSv776MhkUF"
      },
      "source": [
        "# Run Dataset Evaluation"
      ]
    },
    {
      "cell_type": "code",
      "execution_count": 6,
      "metadata": {
        "colab": {
          "base_uri": "https://localhost:8080/"
        },
        "id": "ub8yJ5hiuhxQ",
        "outputId": "83a4172d-3d2c-4cb7-8891-9f9434ffa3e0"
      },
      "outputs": [
        {
          "data": {
            "text/plain": [
              "['data/Zheng_real_data/Imbalanced/z_data_3706.csv.gz',\n",
              " 'data/Zheng_real_data/Imbalanced/z_data_4757.csv.gz',\n",
              " 'data/Zheng_real_data/Imbalanced/z_data_4292.csv.gz',\n",
              " 'data/Zheng_real_data/Imbalanced/z_data_5730.csv.gz',\n",
              " 'data/Zheng_real_data/Imbalanced/z_data_4952.csv.gz',\n",
              " 'data/Zheng_real_data/Balanced/z_data_12073.csv.gz',\n",
              " 'data/Zheng_real_data/Balanced/z_data_3869.csv.gz',\n",
              " 'data/Zheng_real_data/Balanced/z_data_7993.csv.gz',\n",
              " 'data/Zheng_real_data/Balanced/z_data_2410.csv.gz',\n",
              " 'data/Zheng_real_data/Balanced/z_data_785.csv.gz',\n",
              " 'data/sim_Tcell/2250-1220.csv.gz',\n",
              " 'data/sim_Tcell/5930-3210.csv.gz',\n",
              " 'data/sim_Tcell/2251-1179.csv.gz',\n",
              " 'data/sim_Tcell/3276-1042.csv.gz',\n",
              " 'data/sim_Tcell/2972-1523.csv.gz',\n",
              " 'data/sim_Tcell/4249-2916.csv.gz',\n",
              " 'data/sim_Tcell/4320-2134.csv.gz',\n",
              " 'data/sim_Tcell/3689-1878.csv.gz',\n",
              " 'data/sim_Tcell/5974-3858.csv.gz',\n",
              " 'data/sim_Tcell/6006-2261.csv.gz',\n",
              " 'data/sim_Tcell/6083-4496.csv.gz',\n",
              " 'data/sim_Tcell/4797-2332.csv.gz',\n",
              " 'data/sim_Tcell/5960-1400.csv.gz',\n",
              " 'data/sim_T_muris/imbalanced/tmp_2.csv.gz',\n",
              " 'data/sim_T_muris/imbalanced/tmp_1.csv.gz',\n",
              " 'data/sim_T_muris/imbalanced/tmp_5.csv.gz',\n",
              " 'data/sim_T_muris/imbalanced/tmp_4.csv.gz',\n",
              " 'data/sim_T_muris/imbalanced/tmp_3.csv.gz',\n",
              " 'data/sim_T_muris/balanced/T_muris_3016.csv.gz',\n",
              " 'data/sim_T_muris/balanced/T_muris_1019.csv.gz',\n",
              " 'data/sim_T_muris/balanced/T_muris_5033.csv.gz',\n",
              " 'data/sim_T_muris/balanced/T_muris_2006.csv.gz',\n",
              " 'data/sim_T_muris/balanced/T_muris_3966.csv.gz',\n",
              " 'data/Z8eq.csv.gz']"
            ]
          },
          "execution_count": 6,
          "metadata": {},
          "output_type": "execute_result"
        }
      ],
      "source": [
        "import os\n",
        "\n",
        "filepaths = []\n",
        "\n",
        "for dir in os.listdir('data'):\n",
        "  if dir.endswith('.csv.gz'):\n",
        "    filepaths.append(os.path.join('data', dir))\n",
        "  else:\n",
        "    for dir2 in os.listdir(os.path.join('data', dir)):\n",
        "      if dir2.endswith('.csv.gz'):\n",
        "        filepaths.append(os.path.join('data', dir, dir2))\n",
        "      else:\n",
        "        for f in os.listdir(os.path.join('data', dir, dir2)):\n",
        "          if f.endswith('.csv.gz'):\n",
        "            filepaths.append(os.path.join('data', dir, dir2, f))\n",
        "\n",
        "filepaths"
      ]
    },
    {
      "cell_type": "code",
      "execution_count": 7,
      "metadata": {
        "id": "gWsK_Pi90TSw"
      },
      "outputs": [],
      "source": [
        "if not os.path.exists('scSHC_scores.csv'):\n",
        "  save = pd.DataFrame(index=filepaths, columns=['ECC'])\n",
        "  save.to_csv('scSHC_scores.csv')\n",
        "else:\n",
        "  save = pd.read_csv('scSHC_scores.csv', index_col=0)\n",
        "\n",
        "if not os.path.exists('scSHC_nosclens_scores.csv'):\n",
        "  save_noscl = pd.DataFrame(index=filepaths, columns=['ECC'])\n",
        "  save_noscl.to_csv('scSHC_nosclens_scores.csv')\n",
        "else:\n",
        "  save_noscl = pd.read_csv('scSHC_nosclens_scores.csv', index_col=0)"
      ]
    },
    {
      "cell_type": "code",
      "execution_count": 8,
      "metadata": {
        "colab": {
          "base_uri": "https://localhost:8080/",
          "height": 1000
        },
        "id": "2YetzN1H3_vf",
        "outputId": "d7075dab-d7cc-48dd-8458-f019df688041"
      },
      "outputs": [
        {
          "data": {
            "text/html": [
              "<div>\n",
              "<style scoped>\n",
              "    .dataframe tbody tr th:only-of-type {\n",
              "        vertical-align: middle;\n",
              "    }\n",
              "\n",
              "    .dataframe tbody tr th {\n",
              "        vertical-align: top;\n",
              "    }\n",
              "\n",
              "    .dataframe thead th {\n",
              "        text-align: right;\n",
              "    }\n",
              "</style>\n",
              "<table border=\"1\" class=\"dataframe\">\n",
              "  <thead>\n",
              "    <tr style=\"text-align: right;\">\n",
              "      <th></th>\n",
              "      <th>ECC</th>\n",
              "    </tr>\n",
              "  </thead>\n",
              "  <tbody>\n",
              "    <tr>\n",
              "      <th>data/Zheng_real_data/Imbalanced/z_data_3706.csv.gz</th>\n",
              "      <td>NaN</td>\n",
              "    </tr>\n",
              "    <tr>\n",
              "      <th>data/Zheng_real_data/Imbalanced/z_data_4757.csv.gz</th>\n",
              "      <td>NaN</td>\n",
              "    </tr>\n",
              "    <tr>\n",
              "      <th>data/Zheng_real_data/Imbalanced/z_data_4292.csv.gz</th>\n",
              "      <td>NaN</td>\n",
              "    </tr>\n",
              "    <tr>\n",
              "      <th>data/Zheng_real_data/Imbalanced/z_data_5730.csv.gz</th>\n",
              "      <td>NaN</td>\n",
              "    </tr>\n",
              "    <tr>\n",
              "      <th>data/Zheng_real_data/Imbalanced/z_data_4952.csv.gz</th>\n",
              "      <td>NaN</td>\n",
              "    </tr>\n",
              "    <tr>\n",
              "      <th>data/Zheng_real_data/Balanced/z_data_12073.csv.gz</th>\n",
              "      <td>NaN</td>\n",
              "    </tr>\n",
              "    <tr>\n",
              "      <th>data/Zheng_real_data/Balanced/z_data_3869.csv.gz</th>\n",
              "      <td>NaN</td>\n",
              "    </tr>\n",
              "    <tr>\n",
              "      <th>data/Zheng_real_data/Balanced/z_data_7993.csv.gz</th>\n",
              "      <td>NaN</td>\n",
              "    </tr>\n",
              "    <tr>\n",
              "      <th>data/Zheng_real_data/Balanced/z_data_2410.csv.gz</th>\n",
              "      <td>NaN</td>\n",
              "    </tr>\n",
              "    <tr>\n",
              "      <th>data/Zheng_real_data/Balanced/z_data_785.csv.gz</th>\n",
              "      <td>NaN</td>\n",
              "    </tr>\n",
              "    <tr>\n",
              "      <th>data/sim_Tcell/2250-1220.csv.gz</th>\n",
              "      <td>NaN</td>\n",
              "    </tr>\n",
              "    <tr>\n",
              "      <th>data/sim_Tcell/5930-3210.csv.gz</th>\n",
              "      <td>NaN</td>\n",
              "    </tr>\n",
              "    <tr>\n",
              "      <th>data/sim_Tcell/2251-1179.csv.gz</th>\n",
              "      <td>NaN</td>\n",
              "    </tr>\n",
              "    <tr>\n",
              "      <th>data/sim_Tcell/3276-1042.csv.gz</th>\n",
              "      <td>NaN</td>\n",
              "    </tr>\n",
              "    <tr>\n",
              "      <th>data/sim_Tcell/2972-1523.csv.gz</th>\n",
              "      <td>NaN</td>\n",
              "    </tr>\n",
              "    <tr>\n",
              "      <th>data/sim_Tcell/4249-2916.csv.gz</th>\n",
              "      <td>NaN</td>\n",
              "    </tr>\n",
              "    <tr>\n",
              "      <th>data/sim_Tcell/4320-2134.csv.gz</th>\n",
              "      <td>NaN</td>\n",
              "    </tr>\n",
              "    <tr>\n",
              "      <th>data/sim_Tcell/3689-1878.csv.gz</th>\n",
              "      <td>NaN</td>\n",
              "    </tr>\n",
              "    <tr>\n",
              "      <th>data/sim_Tcell/5974-3858.csv.gz</th>\n",
              "      <td>NaN</td>\n",
              "    </tr>\n",
              "    <tr>\n",
              "      <th>data/sim_Tcell/6006-2261.csv.gz</th>\n",
              "      <td>NaN</td>\n",
              "    </tr>\n",
              "    <tr>\n",
              "      <th>data/sim_Tcell/6083-4496.csv.gz</th>\n",
              "      <td>NaN</td>\n",
              "    </tr>\n",
              "    <tr>\n",
              "      <th>data/sim_Tcell/4797-2332.csv.gz</th>\n",
              "      <td>NaN</td>\n",
              "    </tr>\n",
              "    <tr>\n",
              "      <th>data/sim_Tcell/5960-1400.csv.gz</th>\n",
              "      <td>NaN</td>\n",
              "    </tr>\n",
              "    <tr>\n",
              "      <th>data/sim_T_muris/imbalanced/tmp_2.csv.gz</th>\n",
              "      <td>NaN</td>\n",
              "    </tr>\n",
              "    <tr>\n",
              "      <th>data/sim_T_muris/imbalanced/tmp_1.csv.gz</th>\n",
              "      <td>NaN</td>\n",
              "    </tr>\n",
              "    <tr>\n",
              "      <th>data/sim_T_muris/imbalanced/tmp_5.csv.gz</th>\n",
              "      <td>NaN</td>\n",
              "    </tr>\n",
              "    <tr>\n",
              "      <th>data/sim_T_muris/imbalanced/tmp_4.csv.gz</th>\n",
              "      <td>NaN</td>\n",
              "    </tr>\n",
              "    <tr>\n",
              "      <th>data/sim_T_muris/imbalanced/tmp_3.csv.gz</th>\n",
              "      <td>NaN</td>\n",
              "    </tr>\n",
              "    <tr>\n",
              "      <th>data/sim_T_muris/balanced/T_muris_3016.csv.gz</th>\n",
              "      <td>NaN</td>\n",
              "    </tr>\n",
              "    <tr>\n",
              "      <th>data/sim_T_muris/balanced/T_muris_1019.csv.gz</th>\n",
              "      <td>NaN</td>\n",
              "    </tr>\n",
              "    <tr>\n",
              "      <th>data/sim_T_muris/balanced/T_muris_5033.csv.gz</th>\n",
              "      <td>NaN</td>\n",
              "    </tr>\n",
              "    <tr>\n",
              "      <th>data/sim_T_muris/balanced/T_muris_2006.csv.gz</th>\n",
              "      <td>NaN</td>\n",
              "    </tr>\n",
              "    <tr>\n",
              "      <th>data/sim_T_muris/balanced/T_muris_3966.csv.gz</th>\n",
              "      <td>NaN</td>\n",
              "    </tr>\n",
              "    <tr>\n",
              "      <th>data/Z8eq.csv.gz</th>\n",
              "      <td>NaN</td>\n",
              "    </tr>\n",
              "  </tbody>\n",
              "</table>\n",
              "</div>"
            ],
            "text/plain": [
              "                                                    ECC\n",
              "data/Zheng_real_data/Imbalanced/z_data_3706.csv.gz  NaN\n",
              "data/Zheng_real_data/Imbalanced/z_data_4757.csv.gz  NaN\n",
              "data/Zheng_real_data/Imbalanced/z_data_4292.csv.gz  NaN\n",
              "data/Zheng_real_data/Imbalanced/z_data_5730.csv.gz  NaN\n",
              "data/Zheng_real_data/Imbalanced/z_data_4952.csv.gz  NaN\n",
              "data/Zheng_real_data/Balanced/z_data_12073.csv.gz   NaN\n",
              "data/Zheng_real_data/Balanced/z_data_3869.csv.gz    NaN\n",
              "data/Zheng_real_data/Balanced/z_data_7993.csv.gz    NaN\n",
              "data/Zheng_real_data/Balanced/z_data_2410.csv.gz    NaN\n",
              "data/Zheng_real_data/Balanced/z_data_785.csv.gz     NaN\n",
              "data/sim_Tcell/2250-1220.csv.gz                     NaN\n",
              "data/sim_Tcell/5930-3210.csv.gz                     NaN\n",
              "data/sim_Tcell/2251-1179.csv.gz                     NaN\n",
              "data/sim_Tcell/3276-1042.csv.gz                     NaN\n",
              "data/sim_Tcell/2972-1523.csv.gz                     NaN\n",
              "data/sim_Tcell/4249-2916.csv.gz                     NaN\n",
              "data/sim_Tcell/4320-2134.csv.gz                     NaN\n",
              "data/sim_Tcell/3689-1878.csv.gz                     NaN\n",
              "data/sim_Tcell/5974-3858.csv.gz                     NaN\n",
              "data/sim_Tcell/6006-2261.csv.gz                     NaN\n",
              "data/sim_Tcell/6083-4496.csv.gz                     NaN\n",
              "data/sim_Tcell/4797-2332.csv.gz                     NaN\n",
              "data/sim_Tcell/5960-1400.csv.gz                     NaN\n",
              "data/sim_T_muris/imbalanced/tmp_2.csv.gz            NaN\n",
              "data/sim_T_muris/imbalanced/tmp_1.csv.gz            NaN\n",
              "data/sim_T_muris/imbalanced/tmp_5.csv.gz            NaN\n",
              "data/sim_T_muris/imbalanced/tmp_4.csv.gz            NaN\n",
              "data/sim_T_muris/imbalanced/tmp_3.csv.gz            NaN\n",
              "data/sim_T_muris/balanced/T_muris_3016.csv.gz       NaN\n",
              "data/sim_T_muris/balanced/T_muris_1019.csv.gz       NaN\n",
              "data/sim_T_muris/balanced/T_muris_5033.csv.gz       NaN\n",
              "data/sim_T_muris/balanced/T_muris_2006.csv.gz       NaN\n",
              "data/sim_T_muris/balanced/T_muris_3966.csv.gz       NaN\n",
              "data/Z8eq.csv.gz                                    NaN"
            ]
          },
          "execution_count": 8,
          "metadata": {},
          "output_type": "execute_result"
        }
      ],
      "source": [
        "save"
      ]
    },
    {
      "cell_type": "code",
      "execution_count": 9,
      "metadata": {
        "colab": {
          "base_uri": "https://localhost:8080/",
          "height": 1000,
          "referenced_widgets": [
            "3b449ce727a7452b973fad6fb02a3fd4",
            "c88f13feabf84c9d90e7b70365123955",
            "2892d619bab9419ea856830d0625655c",
            "4825af129efe45cab434c5cfe5cd8a78",
            "68493fe32cae4854b47f3b45938c537d",
            "ab4fe61754334f69bc190ccbb689474f",
            "6071851b61ec447ab3cbbb7bccb63362",
            "3a6ae9f335a740f5afe0aaeabb4c7484",
            "42a8a760c9e74cf2a0ac334aef3ebc8f",
            "fc576b1d528545c083352e9b68f116ec",
            "b1233b3106454fa0a6b4f23aaed6f896"
          ]
        },
        "id": "zzPmr8Ytz_ms",
        "outputId": "11aaad95-f8ef-4820-95c3-8c4b3f4d5914"
      },
      "outputs": [
        {
          "name": "stdout",
          "output_type": "stream",
          "text": [
            "data/Zheng_real_data/Imbalanced/z_data_3706.csv.gz\n"
          ]
        },
        {
          "name": "stderr",
          "output_type": "stream",
          "text": [
            "100%|██████████| 10/10 [00:55<00:00,  5.60s/it]\n",
            "/home/sclens/Documents/scLENS-py/scLENS/scLENS.py:319: UserWarning: To copy construct from a tensor, it is recommended to use sourceTensor.clone().detach() or sourceTensor.clone().detach().requires_grad_(True), rather than torch.tensor(sourceTensor).\n",
            "  X_clean = torch.tensor(X).to(self.device, dtype=torch.double)\n",
            "/home/sclens/miniconda3/envs/sclens/lib/python3.11/site-packages/anndata/_core/aligned_df.py:67: ImplicitModificationWarning: Transforming to str index.\n",
            "  warnings.warn(\"Transforming to str index.\", ImplicitModificationWarning)\n",
            "/home/sclens/miniconda3/envs/sclens/lib/python3.11/site-packages/scanpy/preprocessing/_normalization.py:206: UserWarning: Received a view of an AnnData. Making a copy.\n",
            "  view_to_actual(adata)\n",
            "/home/sclens/miniconda3/envs/sclens/lib/python3.11/site-packages/scanpy/preprocessing/_scale.py:299: UserWarning: Received a view of an AnnData. Making a copy.\n",
            "  view_to_actual(adata)\n"
          ]
        },
        {
          "name": "stdout",
          "output_type": "stream",
          "text": [
            "ClusterID: 7334, Num tests: 3668, Significance: 0.0, Total clusters: 0\n"
          ]
        },
        {
          "name": "stderr",
          "output_type": "stream",
          "text": [
            "/home/sclens/Documents/scLENS-py/scLENS/cluster_utils.py:338: RuntimeWarning: invalid value encountered in divide\n",
            "  y2 = (X - mu) ** 2 / mu\n"
          ]
        },
        {
          "name": "stdout",
          "output_type": "stream",
          "text": [
            "ClusterID: 7333, Num tests: 2483, Significance: 0.0, Total clusters: 0\n",
            "ClusterID: 7331, Num tests: 1615, Significance: 0.0, Total clusters: 0\n",
            "ClusterID: 7330, Num tests: 1358, Significance: 0.0, Total clusters: 0\n",
            "ClusterID: 7328, Num tests: 798, Significance: 5.275125442444782e-81, Total clusters: 0\n",
            "ClusterID: 7323, Num tests: 645, Significance: 0.0, Total clusters: 0\n",
            "ClusterID: 7322, Num tests: 642, Significance: 2.8823651817638194e-09, Total clusters: 0\n",
            "ClusterID: 7318, Num tests: 638, Significance: 0.6594670905729391, Total clusters: 1\n",
            "ClusterID: 7245, Num tests: 4, Significance: 1.1744261708233309e-63, Total clusters: 1\n",
            "ClusterID: 3785, Num tests: 2, Significance: nan, Total clusters: 2\n"
          ]
        },
        {
          "name": "stderr",
          "output_type": "stream",
          "text": [
            "/home/sclens/Documents/scLENS-py/scLENS/cluster_utils.py:452: RuntimeWarning: divide by zero encountered in divide\n",
            "  X = np.transpose(X.T / l2_norm) * np.mean(l2_norm)\n",
            "/home/sclens/Documents/scLENS-py/scLENS/cluster_utils.py:452: RuntimeWarning: invalid value encountered in divide\n",
            "  X = np.transpose(X.T / l2_norm) * np.mean(l2_norm)\n",
            "/home/sclens/Documents/scLENS-py/scLENS/cluster_utils.py:342: RuntimeWarning: divide by zero encountered in divide\n",
            "  return np.sqrt(y2.shape[0]) * (disp - 1) / np.sqrt(np.var(y2, 0))\n"
          ]
        },
        {
          "name": "stdout",
          "output_type": "stream",
          "text": [
            "ClusterID: 3719, Num tests: 2, Significance: nan, Total clusters: 3\n",
            "ClusterID: 3724, Num tests: 3, Significance: 0.8994693342732121, Total clusters: 4\n",
            "ClusterID: 7300, Num tests: 153, Significance: 4.2931576574270293e-33, Total clusters: 4\n",
            "ClusterID: 7252, Num tests: 151, Significance: 0.8587361985694264, Total clusters: 5\n",
            "ClusterID: 3726, Num tests: 2, Significance: nan, Total clusters: 6\n",
            "ClusterID: 7325, Num tests: 560, Significance: 1.9549889206608425e-53, Total clusters: 6\n",
            "ClusterID: 7317, Num tests: 210, Significance: 7.794129231141713e-14, Total clusters: 6\n",
            "ClusterID: 7292, Num tests: 206, Significance: 0.6863394979210519, Total clusters: 7\n",
            "ClusterID: 7227, Num tests: 4, Significance: 1.7372346354893933e-40, Total clusters: 7\n",
            "ClusterID: 7001, Num tests: 2, Significance: 2.376685419987664e-177, Total clusters: 7\n",
            "ClusterID: 2658, Num tests: 1, Significance: 1, Total clusters: 8\n",
            "ClusterID: 2429, Num tests: 1, Significance: 1, Total clusters: 9\n",
            "ClusterID: 3711, Num tests: 2, Significance: nan, Total clusters: 10\n",
            "ClusterID: 7316, Num tests: 350, Significance: 1.7504363787818265e-302, Total clusters: 10\n",
            "ClusterID: 7308, Num tests: 8, Significance: 0.24871291972923476, Total clusters: 11\n",
            "ClusterID: 7296, Num tests: 342, Significance: 1.216090221776378e-15, Total clusters: 11\n",
            "ClusterID: 7279, Num tests: 338, Significance: 9.437802687963094e-17, Total clusters: 11\n",
            "ClusterID: 7274, Num tests: 336, Significance: 1.3285934183475876e-175, Total clusters: 11\n",
            "ClusterID: 7272, Num tests: 333, Significance: 5.076130901994645e-67, Total clusters: 11\n",
            "ClusterID: 7228, Num tests: 331, Significance: 0.1359560126583772, Total clusters: 12\n",
            "ClusterID: 3716, Num tests: 2, Significance: nan, Total clusters: 13\n",
            "ClusterID: 7200, Num tests: 3, Significance: 1.6646693284494838e-11, Total clusters: 13\n",
            "ClusterID: 3712, Num tests: 2, Significance: nan, Total clusters: 14\n",
            "ClusterID: 2449, Num tests: 1, Significance: 1, Total clusters: 15\n",
            "ClusterID: 3783, Num tests: 2, Significance: nan, Total clusters: 16\n",
            "ClusterID: 7177, Num tests: 4, Significance: 1.0828523277758147e-67, Total clusters: 16\n",
            "ClusterID: 3787, Num tests: 2, Significance: nan, Total clusters: 17\n",
            "ClusterID: 3728, Num tests: 2, Significance: nan, Total clusters: 18\n",
            "ClusterID: 7329, Num tests: 257, Significance: 0.012845590484392006, Total clusters: 19\n",
            "ClusterID: 7326, Num tests: 868, Significance: 0.0, Total clusters: 19\n",
            "ClusterID: 7321, Num tests: 796, Significance: 0.0, Total clusters: 19\n",
            "ClusterID: 7305, Num tests: 793, Significance: 0.7017647109512756, Total clusters: 20\n",
            "ClusterID: 3687, Num tests: 3, Significance: 0.89058373224593, Total clusters: 21\n",
            "ClusterID: 7313, Num tests: 72, Significance: 1.1724039035132914e-108, Total clusters: 21\n",
            "ClusterID: 7306, Num tests: 69, Significance: 0.8629813857547972, Total clusters: 22\n",
            "ClusterID: 3696, Num tests: 3, Significance: 0.8927465359150066, Total clusters: 23\n",
            "ClusterID: 7332, Num tests: 1185, Significance: 0.0, Total clusters: 23\n",
            "ClusterID: 7327, Num tests: 307, Significance: 0.6393263363380417, Total clusters: 24\n",
            "ClusterID: 7324, Num tests: 878, Significance: 2.8999848903301e-35, Total clusters: 24\n",
            "ClusterID: 7310, Num tests: 46, Significance: 6.388554342159607e-55, Total clusters: 24\n",
            "ClusterID: 7304, Num tests: 8, Significance: 1.3347619652028117e-16, Total clusters: 24\n",
            "ClusterID: 7283, Num tests: 6, Significance: 1.0688590035876563e-10, Total clusters: 24\n",
            "ClusterID: 7207, Num tests: 4, Significance: 0.1680173355794793, Total clusters: 25\n",
            "ClusterID: 3753, Num tests: 2, Significance: nan, Total clusters: 26\n",
            "ClusterID: 3761, Num tests: 2, Significance: nan, Total clusters: 27\n",
            "ClusterID: 7276, Num tests: 38, Significance: 0.05255391843962687, Total clusters: 28\n",
            "ClusterID: 7303, Num tests: 832, Significance: 1.5066319006617e-80, Total clusters: 28\n",
            "ClusterID: 7301, Num tests: 829, Significance: 0.7817536669545594, Total clusters: 29\n",
            "ClusterID: 3739, Num tests: 3, Significance: 0.8730889677498062, Total clusters: 30\n",
            "ClusterID: 7334, Num tests: 3668, Significance: 0.0, Total clusters: 0\n",
            "ClusterID: 7333, Num tests: 2795, Significance: 0.0, Total clusters: 0\n",
            "ClusterID: 7332, Num tests: 1175, Significance: 0.0, Total clusters: 0\n",
            "ClusterID: 7329, Num tests: 866, Significance: 0.0, Total clusters: 0\n",
            "ClusterID: 7319, Num tests: 719, Significance: 4.373860386134978e-05, Total clusters: 0\n",
            "ClusterID: 7306, Num tests: 250, Significance: 0.5677274575744778, Total clusters: 1\n",
            "ClusterID: 7294, Num tests: 469, Significance: 4.498845839014656e-52, Total clusters: 1\n",
            "ClusterID: 7278, Num tests: 404, Significance: 0.0, Total clusters: 1\n",
            "ClusterID: 7245, Num tests: 228, Significance: 0.00483807034891447, Total clusters: 2\n",
            "ClusterID: 7224, Num tests: 176, Significance: 0.7547335505868267, Total clusters: 3\n",
            "ClusterID: 7203, Num tests: 65, Significance: 0.7826204520792198, Total clusters: 4\n",
            "ClusterID: 7318, Num tests: 147, Significance: 2.3002117889005262e-26, Total clusters: 4\n",
            "ClusterID: 7261, Num tests: 89, Significance: 0.6730343097894947, Total clusters: 5\n",
            "ClusterID: 7139, Num tests: 58, Significance: 0.7715821572286771, Total clusters: 6\n",
            "ClusterID: 7324, Num tests: 309, Significance: 3.446791436251757e-06, Total clusters: 6\n",
            "ClusterID: 7310, Num tests: 288, Significance: 3.0719607559822854e-94, Total clusters: 6\n",
            "ClusterID: 7307, Num tests: 208, Significance: 0.7198909730238326, Total clusters: 7\n",
            "ClusterID: 7293, Num tests: 80, Significance: 0.2228420562803154, Total clusters: 8\n",
            "ClusterID: 7168, Num tests: 21, Significance: 0.07056378502923476, Total clusters: 9\n",
            "ClusterID: 7331, Num tests: 1620, Significance: 3.687028494229498e-44, Total clusters: 9\n",
            "ClusterID: 7330, Num tests: 884, Significance: 8.030428699162144e-93, Total clusters: 9\n",
            "ClusterID: 7325, Num tests: 621, Significance: 0.8081076135879004, Total clusters: 10\n",
            "ClusterID: 7221, Num tests: 263, Significance: 0.6283231487136407, Total clusters: 11\n",
            "ClusterID: 7327, Num tests: 736, Significance: 1.0575073527562214e-18, Total clusters: 11\n",
            "ClusterID: 7326, Num tests: 543, Significance: 1.620416105913951e-35, Total clusters: 11\n",
            "ClusterID: 7323, Num tests: 391, Significance: 0.10788515394626219, Total clusters: 12\n",
            "ClusterID: 7321, Num tests: 152, Significance: 0.0006620464076456735, Total clusters: 12\n",
            "ClusterID: 7311, Num tests: 74, Significance: 1.8279875041572486e-39, Total clusters: 12\n",
            "ClusterID: 7304, Num tests: 66, Significance: 0.41013432561722657, Total clusters: 13\n",
            "ClusterID: 6910, Num tests: 8, Significance: 0.8415829880074444, Total clusters: 14\n",
            "ClusterID: 7308, Num tests: 78, Significance: 0.8271011967339198, Total clusters: 15\n",
            "ClusterID: 7314, Num tests: 193, Significance: 0.2798101567892015, Total clusters: 16\n",
            "ClusterID: 7328, Num tests: 873, Significance: 1.3478880170865752e-275, Total clusters: 16\n",
            "ClusterID: 7320, Num tests: 797, Significance: 5.702778992746012e-06, Total clusters: 16\n",
            "ClusterID: 7301, Num tests: 546, Significance: 0.7073588403211133, Total clusters: 17\n",
            "ClusterID: 7290, Num tests: 251, Significance: 1.9633304541361356e-11, Total clusters: 17\n",
            "ClusterID: 7273, Num tests: 191, Significance: 1.975746349649044e-31, Total clusters: 17\n",
            "ClusterID: 7244, Num tests: 177, Significance: 0.00047769245075659513, Total clusters: 17\n",
            "ClusterID: 7217, Num tests: 107, Significance: 0.41349585187533255, Total clusters: 18\n",
            "ClusterID: 7157, Num tests: 70, Significance: 0.7030669698835266, Total clusters: 19\n",
            "ClusterID: 7218, Num tests: 14, Significance: 1.1901420759276356e-06, Total clusters: 19\n",
            "ClusterID: 7028, Num tests: 10, Significance: 0.7869911641836353, Total clusters: 20\n",
            "ClusterID: 6081, Num tests: 4, Significance: 8.319586269236773e-62, Total clusters: 20\n",
            "ClusterID: 3775, Num tests: 2, Significance: nan, Total clusters: 21\n",
            "ClusterID: 3727, Num tests: 2, Significance: nan, Total clusters: 22\n",
            "ClusterID: 7176, Num tests: 60, Significance: 1.279696746333791e-36, Total clusters: 22\n",
            "ClusterID: 7116, Num tests: 54, Significance: 0.3679367436429277, Total clusters: 23\n",
            "ClusterID: 6713, Num tests: 6, Significance: 6.623721482461034e-59, Total clusters: 23\n",
            "ClusterID: 5074, Num tests: 4, Significance: 4.2382347487539823e-10, Total clusters: 23\n",
            "ClusterID: 3726, Num tests: 3, Significance: 0.9680002245907501, Total clusters: 24\n",
            "ClusterID: 1544, Num tests: 1, Significance: 1, Total clusters: 25\n",
            "ClusterID: 3739, Num tests: 2, Significance: nan, Total clusters: 26\n",
            "ClusterID: 7263, Num tests: 76, Significance: 1.6955104818209761e-12, Total clusters: 26\n",
            "ClusterID: 7225, Num tests: 47, Significance: 0.880663788585232, Total clusters: 27\n",
            "ClusterID: 7210, Num tests: 29, Significance: 4.277176781626636e-19, Total clusters: 27\n",
            "ClusterID: 7144, Num tests: 26, Significance: 0.8643758843443958, Total clusters: 28\n",
            "ClusterID: 6758, Num tests: 3, Significance: 6.784635575601642e-07, Total clusters: 28\n",
            "ClusterID: 3777, Num tests: 2, Significance: nan, Total clusters: 29\n",
            "ClusterID: 2455, Num tests: 1, Significance: 1, Total clusters: 30\n"
          ]
        },
        {
          "data": {
            "image/png": "[encoded data removed]",
            "text/plain": [
              "<Figure size 640x480 with 1 Axes>"
            ]
          },
          "metadata": {},
          "output_type": "display_data"
        },
        {
          "name": "stdout",
          "output_type": "stream",
          "text": [
            "data/Zheng_real_data/Imbalanced/z_data_4757.csv.gz\n"
          ]
        },
        {
          "name": "stderr",
          "output_type": "stream",
          "text": [
            "100%|██████████| 10/10 [01:36<00:00,  9.66s/it]\n",
            "/home/sclens/Documents/scLENS-py/scLENS/scLENS.py:319: UserWarning: To copy construct from a tensor, it is recommended to use sourceTensor.clone().detach() or sourceTensor.clone().detach().requires_grad_(True), rather than torch.tensor(sourceTensor).\n",
            "  X_clean = torch.tensor(X).to(self.device, dtype=torch.double)\n",
            "/home/sclens/miniconda3/envs/sclens/lib/python3.11/site-packages/anndata/_core/aligned_df.py:67: ImplicitModificationWarning: Transforming to str index.\n",
            "  warnings.warn(\"Transforming to str index.\", ImplicitModificationWarning)\n",
            "/home/sclens/miniconda3/envs/sclens/lib/python3.11/site-packages/scanpy/preprocessing/_normalization.py:206: UserWarning: Received a view of an AnnData. Making a copy.\n",
            "  view_to_actual(adata)\n",
            "/home/sclens/miniconda3/envs/sclens/lib/python3.11/site-packages/scanpy/preprocessing/_scale.py:299: UserWarning: Received a view of an AnnData. Making a copy.\n",
            "  view_to_actual(adata)\n"
          ]
        },
        {
          "name": "stdout",
          "output_type": "stream",
          "text": [
            "ClusterID: 9440, Num tests: 4721, Significance: 0.0, Total clusters: 0\n"
          ]
        },
        {
          "name": "stderr",
          "output_type": "stream",
          "text": [
            "/home/sclens/Documents/scLENS-py/scLENS/cluster_utils.py:338: RuntimeWarning: invalid value encountered in divide\n",
            "  y2 = (X - mu) ** 2 / mu\n"
          ]
        },
        {
          "name": "stdout",
          "output_type": "stream",
          "text": [
            "ClusterID: 9439, Num tests: 1763, Significance: 0.00029238701295921353, Total clusters: 0\n",
            "ClusterID: 9437, Num tests: 1102, Significance: 0.0, Total clusters: 0\n",
            "ClusterID: 9427, Num tests: 491, Significance: 0.0, Total clusters: 0\n",
            "ClusterID: 9403, Num tests: 458, Significance: 1.6131537754159211e-74, Total clusters: 0\n",
            "ClusterID: 9393, Num tests: 455, Significance: 0.0, Total clusters: 0\n",
            "ClusterID: 8963, Num tests: 452, Significance: 0.0, Total clusters: 0\n",
            "ClusterID: 8665, Num tests: 365, Significance: 0.0, Total clusters: 0\n",
            "ClusterID: 8587, Num tests: 359, Significance: 1.7258601253566335e-13, Total clusters: 0\n",
            "ClusterID: 8437, Num tests: 351, Significance: 0.0, Total clusters: 0\n",
            "ClusterID: 8406, Num tests: 349, Significance: 5.0010143808492106e-18, Total clusters: 0\n",
            "ClusterID: 8380, Num tests: 343, Significance: 0.004362750956378987, Total clusters: 1\n",
            "ClusterID: 7972, Num tests: 6, Significance: 0.7978208297478009, Total clusters: 2\n",
            "ClusterID: 4846, Num tests: 2, Significance: nan, Total clusters: 3\n"
          ]
        },
        {
          "name": "stderr",
          "output_type": "stream",
          "text": [
            "/home/sclens/Documents/scLENS-py/scLENS/cluster_utils.py:452: RuntimeWarning: invalid value encountered in divide\n",
            "  X = np.transpose(X.T / l2_norm) * np.mean(l2_norm)\n",
            "/home/sclens/Documents/scLENS-py/scLENS/cluster_utils.py:342: RuntimeWarning: divide by zero encountered in divide\n",
            "  return np.sqrt(y2.shape[0]) * (disp - 1) / np.sqrt(np.var(y2, 0))\n"
          ]
        },
        {
          "name": "stdout",
          "output_type": "stream",
          "text": [
            "ClusterID: 7975, Num tests: 8, Significance: 3.0348869381759017e-22, Total clusters: 3\n",
            "ClusterID: 7171, Num tests: 4, Significance: 2.4075135656585422e-32, Total clusters: 3\n",
            "ClusterID: 4856, Num tests: 2, Significance: nan, Total clusters: 4\n",
            "ClusterID: 4848, Num tests: 2, Significance: nan, Total clusters: 5\n",
            "ClusterID: 6606, Num tests: 4, Significance: 5.48063838812534e-30, Total clusters: 5\n",
            "ClusterID: 4908, Num tests: 2, Significance: nan, Total clusters: 6\n",
            "ClusterID: 4857, Num tests: 2, Significance: nan, Total clusters: 7\n",
            "ClusterID: 8026, Num tests: 6, Significance: 1.9232818489496218e-62, Total clusters: 7\n",
            "ClusterID: 7793, Num tests: 4, Significance: 1.058136552890572e-36, Total clusters: 7\n",
            "ClusterID: 4855, Num tests: 2, Significance: nan, Total clusters: 8\n",
            "ClusterID: 4850, Num tests: 2, Significance: nan, Total clusters: 9\n",
            "ClusterID: 4851, Num tests: 2, Significance: nan, Total clusters: 10\n",
            "ClusterID: 8488, Num tests: 87, Significance: 0.12505893429913723, Total clusters: 11\n",
            "ClusterID: 4845, Num tests: 3, Significance: 0.8456236526781511, Total clusters: 12\n",
            "ClusterID: 4907, Num tests: 3, Significance: 0.9701465051979766, Total clusters: 13\n",
            "ClusterID: 9385, Num tests: 33, Significance: 0.01577861823681948, Total clusters: 14\n",
            "ClusterID: 9390, Num tests: 611, Significance: 0.0, Total clusters: 14\n",
            "ClusterID: 9355, Num tests: 139, Significance: 0.7835678136648185, Total clusters: 15\n",
            "ClusterID: 9313, Num tests: 472, Significance: 4.851126103796549e-24, Total clusters: 15\n",
            "ClusterID: 9177, Num tests: 464, Significance: 0.8228819110252892, Total clusters: 16\n",
            "ClusterID: 8711, Num tests: 8, Significance: 0.0104745632999154, Total clusters: 17\n",
            "ClusterID: 9402, Num tests: 661, Significance: 2.5676220222927434e-243, Total clusters: 17\n",
            "ClusterID: 9344, Num tests: 570, Significance: 6.429639886649026e-289, Total clusters: 17\n",
            "ClusterID: 9336, Num tests: 468, Significance: 0.0, Total clusters: 17\n",
            "ClusterID: 9322, Num tests: 462, Significance: 5.997241205816618e-14, Total clusters: 17\n",
            "ClusterID: 9295, Num tests: 454, Significance: 7.84049755644554e-265, Total clusters: 17\n",
            "ClusterID: 9250, Num tests: 452, Significance: 0.21834724929010768, Total clusters: 18\n",
            "ClusterID: 4863, Num tests: 2, Significance: nan, Total clusters: 19\n",
            "ClusterID: 9241, Num tests: 8, Significance: 0.6911350894772751, Total clusters: 20\n",
            "ClusterID: 9180, Num tests: 6, Significance: 8.908671857460666e-124, Total clusters: 20\n",
            "ClusterID: 8375, Num tests: 4, Significance: 7.308522077377394e-57, Total clusters: 20\n",
            "ClusterID: 4888, Num tests: 2, Significance: nan, Total clusters: 21\n",
            "ClusterID: 4735, Num tests: 2, Significance: nan, Total clusters: 22\n",
            "ClusterID: 4738, Num tests: 2, Significance: nan, Total clusters: 23\n",
            "ClusterID: 9292, Num tests: 102, Significance: 6.827791223218517e-12, Total clusters: 23\n",
            "ClusterID: 9207, Num tests: 100, Significance: 0.6922083657333521, Total clusters: 24\n",
            "ClusterID: 4889, Num tests: 2, Significance: nan, Total clusters: 25\n",
            "ClusterID: 9246, Num tests: 91, Significance: 0.45741152351065884, Total clusters: 26\n",
            "ClusterID: 9438, Num tests: 2958, Significance: 0.0, Total clusters: 26\n",
            "ClusterID: 9436, Num tests: 2283, Significance: 0.0, Total clusters: 26\n",
            "ClusterID: 9434, Num tests: 989, Significance: 0.0, Total clusters: 26\n",
            "ClusterID: 9432, Num tests: 494, Significance: 4.978049125828574e-06, Total clusters: 26\n",
            "ClusterID: 9431, Num tests: 432, Significance: 0.00022095167757391892, Total clusters: 26\n",
            "ClusterID: 9425, Num tests: 136, Significance: 0.0, Total clusters: 26\n",
            "ClusterID: 9417, Num tests: 118, Significance: 0.655304107157358, Total clusters: 27\n",
            "ClusterID: 9398, Num tests: 18, Significance: 5.479203588733977e-05, Total clusters: 27\n",
            "ClusterID: 9340, Num tests: 6, Significance: 0.25014965604488526, Total clusters: 28\n",
            "ClusterID: 9328, Num tests: 12, Significance: 0.01071876826375042, Total clusters: 29\n",
            "ClusterID: 9416, Num tests: 296, Significance: 1.1062192234526074e-70, Total clusters: 29\n",
            "ClusterID: 9415, Num tests: 282, Significance: 0.14842134736577667, Total clusters: 30\n",
            "ClusterID: 9382, Num tests: 14, Significance: 0.044935698367129934, Total clusters: 31\n",
            "ClusterID: 9430, Num tests: 62, Significance: 1.4087208531724548e-05, Total clusters: 31\n",
            "ClusterID: 9411, Num tests: 10, Significance: 0.845050735495493, Total clusters: 32\n",
            "ClusterID: 9406, Num tests: 52, Significance: 0.6322474560144618, Total clusters: 33\n",
            "ClusterID: 9418, Num tests: 495, Significance: 0.0, Total clusters: 33\n",
            "ClusterID: 9408, Num tests: 492, Significance: 0.6288005632064125, Total clusters: 34\n",
            "ClusterID: 4809, Num tests: 3, Significance: 0.8951718283926988, Total clusters: 35\n",
            "ClusterID: 9429, Num tests: 1294, Significance: 0.0, Total clusters: 35\n",
            "ClusterID: 9428, Num tests: 1281, Significance: 9.264825137110108e-40, Total clusters: 35\n",
            "ClusterID: 9423, Num tests: 1100, Significance: 0.0, Total clusters: 35\n",
            "ClusterID: 9420, Num tests: 1086, Significance: 3.2281955948908055e-27, Total clusters: 35\n",
            "ClusterID: 9409, Num tests: 405, Significance: 6.960811297839817e-220, Total clusters: 35\n",
            "ClusterID: 9401, Num tests: 399, Significance: 2.243240749953673e-64, Total clusters: 35\n",
            "ClusterID: 9394, Num tests: 393, Significance: 4.499183900188809e-25, Total clusters: 35\n",
            "ClusterID: 9338, Num tests: 383, Significance: 0.0011618882347828965, Total clusters: 35\n",
            "ClusterID: 9288, Num tests: 260, Significance: 0.7739876177325572, Total clusters: 36\n",
            "ClusterID: 9214, Num tests: 123, Significance: 0.18250998345814928, Total clusters: 37\n",
            "ClusterID: 9332, Num tests: 10, Significance: 0.6584100282837935, Total clusters: 38\n",
            "ClusterID: 9333, Num tests: 6, Significance: 4.220604786220976e-61, Total clusters: 38\n",
            "ClusterID: 9306, Num tests: 4, Significance: 9.731081498788693e-44, Total clusters: 38\n",
            "ClusterID: 4894, Num tests: 2, Significance: nan, Total clusters: 39\n",
            "ClusterID: 4879, Num tests: 2, Significance: nan, Total clusters: 40\n",
            "ClusterID: 4816, Num tests: 2, Significance: nan, Total clusters: 41\n",
            "ClusterID: 9375, Num tests: 6, Significance: 0.8186822564723859, Total clusters: 42\n",
            "ClusterID: 9397, Num tests: 681, Significance: 1.937054927501977e-129, Total clusters: 42\n",
            "ClusterID: 9371, Num tests: 464, Significance: 0.4693184586418205, Total clusters: 43\n",
            "ClusterID: 9369, Num tests: 217, Significance: 0.32904235850308805, Total clusters: 44\n",
            "ClusterID: 9412, Num tests: 14, Significance: 1.986321393694922e-14, Total clusters: 44\n",
            "ClusterID: 9378, Num tests: 10, Significance: 8.723418137041756e-40, Total clusters: 44\n",
            "ClusterID: 9357, Num tests: 8, Significance: 1.1554980534459708e-22, Total clusters: 44\n",
            "ClusterID: 9232, Num tests: 4, Significance: 2.0815573614174297e-268, Total clusters: 44\n",
            "ClusterID: 4760, Num tests: 2, Significance: nan, Total clusters: 45\n",
            "ClusterID: 4757, Num tests: 2, Significance: nan, Total clusters: 46\n",
            "ClusterID: 9142, Num tests: 4, Significance: 2.20505779845599e-57, Total clusters: 46\n",
            "ClusterID: 4756, Num tests: 2, Significance: nan, Total clusters: 47\n",
            "ClusterID: 4753, Num tests: 2, Significance: nan, Total clusters: 48\n",
            "ClusterID: 4817, Num tests: 2, Significance: nan, Total clusters: 49\n",
            "ClusterID: 9293, Num tests: 4, Significance: 2.6239116162903916e-44, Total clusters: 49\n",
            "ClusterID: 4818, Num tests: 2, Significance: nan, Total clusters: 50\n",
            "ClusterID: 4763, Num tests: 2, Significance: nan, Total clusters: 51\n",
            "ClusterID: 9413, Num tests: 181, Significance: 1.7202792156600104e-127, Total clusters: 51\n",
            "ClusterID: 9379, Num tests: 175, Significance: 0.7729364455976788, Total clusters: 52\n",
            "ClusterID: 9329, Num tests: 6, Significance: 0.03482508520441301, Total clusters: 53\n",
            "ClusterID: 9421, Num tests: 13, Significance: 3.135713551354095e-18, Total clusters: 53\n",
            "ClusterID: 9389, Num tests: 10, Significance: 2.9032731590879275e-06, Total clusters: 53\n",
            "ClusterID: 9317, Num tests: 4, Significance: 3.6417579802799456e-34, Total clusters: 53\n",
            "ClusterID: 4823, Num tests: 2, Significance: nan, Total clusters: 54\n",
            "ClusterID: 4811, Num tests: 2, Significance: nan, Total clusters: 55\n",
            "ClusterID: 9261, Num tests: 6, Significance: 7.769235150290405e-15, Total clusters: 55\n",
            "ClusterID: 9054, Num tests: 4, Significance: 5.822000261563943e-38, Total clusters: 55\n",
            "ClusterID: 4805, Num tests: 2, Significance: nan, Total clusters: 56\n",
            "ClusterID: 4798, Num tests: 2, Significance: nan, Total clusters: 57\n",
            "ClusterID: 4875, Num tests: 2, Significance: nan, Total clusters: 58\n",
            "ClusterID: 4837, Num tests: 3, Significance: 0.9146663452947874, Total clusters: 59\n",
            "ClusterID: 9435, Num tests: 675, Significance: 0.0, Total clusters: 59\n",
            "ClusterID: 9433, Num tests: 239, Significance: 0.32742711109167777, Total clusters: 60\n",
            "ClusterID: 9426, Num tests: 436, Significance: 0.0, Total clusters: 60\n",
            "ClusterID: 9414, Num tests: 262, Significance: 0.2831887011160486, Total clusters: 61\n",
            "ClusterID: 9384, Num tests: 174, Significance: 1.2093201105370777e-152, Total clusters: 61\n",
            "ClusterID: 9363, Num tests: 172, Significance: 0.1589014715599188, Total clusters: 62\n",
            "ClusterID: 4878, Num tests: 2, Significance: nan, Total clusters: 63\n",
            "ClusterID: 9440, Num tests: 4721, Significance: 3.3260890936767302e-189, Total clusters: 0\n",
            "ClusterID: 9439, Num tests: 1779, Significance: 0.0, Total clusters: 0\n",
            "ClusterID: 9438, Num tests: 1168, Significance: 0.0, Total clusters: 0\n",
            "ClusterID: 9433, Num tests: 507, Significance: 0.0, Total clusters: 0\n",
            "ClusterID: 9422, Num tests: 39, Significance: 8.453811334347916e-08, Total clusters: 0\n",
            "ClusterID: 9415, Num tests: 27, Significance: 3.246997651656394e-07, Total clusters: 0\n",
            "ClusterID: 9402, Num tests: 16, Significance: 0.0014082709584082931, Total clusters: 1\n",
            "ClusterID: 9365, Num tests: 11, Significance: 2.607740723776748e-158, Total clusters: 1\n",
            "ClusterID: 9333, Num tests: 7, Significance: 1.3054306718794396e-24, Total clusters: 1\n",
            "ClusterID: 8394, Num tests: 4, Significance: 9.836765915660604e-35, Total clusters: 1\n",
            "ClusterID: 4907, Num tests: 2, Significance: nan, Total clusters: 2\n",
            "ClusterID: 4853, Num tests: 2, Significance: nan, Total clusters: 3\n"
          ]
        },
        {
          "name": "stderr",
          "output_type": "stream",
          "text": [
            "/home/sclens/Documents/scLENS-py/scLENS/cluster_utils.py:452: RuntimeWarning: divide by zero encountered in divide\n",
            "  X = np.transpose(X.T / l2_norm) * np.mean(l2_norm)\n"
          ]
        },
        {
          "name": "stdout",
          "output_type": "stream",
          "text": [
            "ClusterID: 4838, Num tests: 3, Significance: 0.8569446223765369, Total clusters: 4\n",
            "ClusterID: 8842, Num tests: 4, Significance: 1.819503681118284e-46, Total clusters: 4\n",
            "ClusterID: 4846, Num tests: 2, Significance: nan, Total clusters: 5\n",
            "ClusterID: 4784, Num tests: 2, Significance: nan, Total clusters: 6\n",
            "ClusterID: 9327, Num tests: 12, Significance: 0.0013982137261259893, Total clusters: 7\n",
            "ClusterID: 9420, Num tests: 468, Significance: 0.73835669438306, Total clusters: 8\n",
            "ClusterID: 9424, Num tests: 661, Significance: 9.488671636898221e-28, Total clusters: 8\n",
            "ClusterID: 9399, Num tests: 362, Significance: 5.729327085232333e-78, Total clusters: 8\n",
            "ClusterID: 9337, Num tests: 301, Significance: 0.007963107033377288, Total clusters: 9\n",
            "ClusterID: 9011, Num tests: 61, Significance: 0.006915062955269381, Total clusters: 10\n",
            "ClusterID: 9254, Num tests: 299, Significance: 0.7922604981929253, Total clusters: 11\n",
            "ClusterID: 9375, Num tests: 611, Significance: 1.699591713989803e-84, Total clusters: 11\n"
          ]
        },
        {
          "ename": "KeyboardInterrupt",
          "evalue": "",
          "output_type": "error",
          "traceback": [
            "\u001b[0;31m---------------------------------------------------------------------------\u001b[0m",
            "\u001b[0;31mKeyboardInterrupt\u001b[0m                         Traceback (most recent call last)",
            "Cell \u001b[0;32mIn[9], line 1\u001b[0m\n\u001b[0;32m----> 1\u001b[0m chsr_score, mltk_score \u001b[38;5;241m=\u001b[39m \u001b[43mevaluate\u001b[49m\u001b[43m(\u001b[49m\u001b[43mfilepaths\u001b[49m\u001b[43m,\u001b[49m\u001b[43m \u001b[49m\u001b[43msave\u001b[49m\u001b[43m,\u001b[49m\u001b[43m \u001b[49m\u001b[43msave_noscl\u001b[49m\u001b[43m,\u001b[49m\u001b[43m \u001b[49m\u001b[43moverwrite\u001b[49m\u001b[38;5;241;43m=\u001b[39;49m\u001b[38;5;28;43;01mTrue\u001b[39;49;00m\u001b[43m,\u001b[49m\u001b[43m \u001b[49m\u001b[38;5;241;43m*\u001b[39;49m\u001b[38;5;241;43m*\u001b[39;49m\u001b[43mparams\u001b[49m\u001b[43m)\u001b[49m\n",
            "Cell \u001b[0;32mIn[5], line 38\u001b[0m, in \u001b[0;36mevaluate\u001b[0;34m(filepaths, save_scl, save_noscl, overwrite, **params)\u001b[0m\n\u001b[1;32m     35\u001b[0m y_true \u001b[38;5;241m=\u001b[39m adata\u001b[38;5;241m.\u001b[39mobs[\u001b[38;5;124m'\u001b[39m\u001b[38;5;124mcell\u001b[39m\u001b[38;5;124m'\u001b[39m]\n\u001b[1;32m     37\u001b[0m sch_scl \u001b[38;5;241m=\u001b[39m sclens\u001b[38;5;241m.\u001b[39mcluster(df, method\u001b[38;5;241m=\u001b[39m\u001b[38;5;124m'\u001b[39m\u001b[38;5;124mscSHC\u001b[39m\u001b[38;5;124m'\u001b[39m)\n\u001b[0;32m---> 38\u001b[0m sch_noscl \u001b[38;5;241m=\u001b[39m \u001b[43mscSHC\u001b[49m\u001b[43m(\u001b[49m\u001b[43mX\u001b[49m\u001b[43m,\u001b[49m\u001b[43m \u001b[49m\u001b[43mX_transform\u001b[49m\u001b[43m)\u001b[49m\n\u001b[1;32m     40\u001b[0m sch_full \u001b[38;5;241m=\u001b[39m np\u001b[38;5;241m.\u001b[39mzeros_like(y_true_full) \u001b[38;5;241m-\u001b[39m \u001b[38;5;241m1\u001b[39m\n\u001b[1;32m     41\u001b[0m sch_full[kept_cells] \u001b[38;5;241m=\u001b[39m sch_noscl\n",
            "File \u001b[0;32m~/Documents/scLENS-py/scLENS/clustering.py:254\u001b[0m, in \u001b[0;36mscSHC\u001b[0;34m(X, X_transform, alpha, device, n_jobs)\u001b[0m\n\u001b[1;32m    251\u001b[0m score \u001b[38;5;241m=\u001b[39m dend\u001b[38;5;241m.\u001b[39mget_score(test)\n\u001b[1;32m    253\u001b[0m alpha_level \u001b[38;5;241m=\u001b[39m alpha \u001b[38;5;241m*\u001b[39m ((\u001b[38;5;28mlen\u001b[39m(test_leaves) \u001b[38;5;241m-\u001b[39m \u001b[38;5;241m1\u001b[39m) \u001b[38;5;241m/\u001b[39m (X\u001b[38;5;241m.\u001b[39mshape[\u001b[38;5;241m0\u001b[39m] \u001b[38;5;241m-\u001b[39m \u001b[38;5;241m1\u001b[39m))\n\u001b[0;32m--> 254\u001b[0m sig \u001b[38;5;241m=\u001b[39m \u001b[43mtest_significance\u001b[49m\u001b[43m(\u001b[49m\u001b[43mX\u001b[49m\u001b[43m,\u001b[49m\u001b[43m \u001b[49m\u001b[43mtest_leaves\u001b[49m\u001b[43m,\u001b[49m\u001b[43m \u001b[49m\u001b[43mnPC\u001b[49m\u001b[43m,\u001b[49m\u001b[43m \u001b[49m\u001b[43mscore\u001b[49m\u001b[43m,\u001b[49m\u001b[43m \u001b[49m\u001b[43malpha_level\u001b[49m\u001b[43m,\u001b[49m\u001b[43m \u001b[49m\u001b[43mn_jobs\u001b[49m\u001b[43m)\u001b[49m\n\u001b[1;32m    256\u001b[0m \u001b[38;5;28;01mif\u001b[39;00m (sig \u001b[38;5;241m<\u001b[39m alpha_level):\n\u001b[1;32m    257\u001b[0m     test_queue\u001b[38;5;241m.\u001b[39mextend(dend\u001b[38;5;241m.\u001b[39mget_children(test))\n",
            "File \u001b[0;32m~/Documents/scLENS-py/scLENS/cluster_utils.py:421\u001b[0m, in \u001b[0;36mtest_significance\u001b[0;34m(X, leaves, nPC, score, alpha_level, n_jobs)\u001b[0m\n\u001b[1;32m    419\u001b[0m pool \u001b[38;5;241m=\u001b[39m \u001b[38;5;28mlist\u001b[39m()\n\u001b[1;32m    420\u001b[0m parallel \u001b[38;5;241m=\u001b[39m Parallel(n_jobs\u001b[38;5;241m=\u001b[39mn_jobs)\n\u001b[0;32m--> 421\u001b[0m pool\u001b[38;5;241m.\u001b[39mextend(\u001b[43mparallel\u001b[49m\u001b[43m(\u001b[49m\u001b[43mdelayed\u001b[49m\u001b[43m(\u001b[49m\u001b[43mgenerate_null_stats\u001b[49m\u001b[43m)\u001b[49m\u001b[43m(\u001b[49m\u001b[43mX_test\u001b[49m\u001b[43m,\u001b[49m\u001b[43m \u001b[49m\u001b[43mparams\u001b[49m\u001b[43m,\u001b[49m\u001b[43m \u001b[49m\u001b[43mon_genes\u001b[49m\u001b[43m,\u001b[49m\u001b[43m \u001b[49m\u001b[43mnPC\u001b[49m\u001b[43m)\u001b[49m\u001b[43m \u001b[49m\u001b[38;5;28;43;01mfor\u001b[39;49;00m\u001b[43m \u001b[49m\u001b[43m_\u001b[49m\u001b[43m \u001b[49m\u001b[38;5;129;43;01min\u001b[39;49;00m\u001b[43m \u001b[49m\u001b[38;5;28;43mrange\u001b[39;49m\u001b[43m(\u001b[49m\u001b[38;5;241;43m10\u001b[39;49m\u001b[43m)\u001b[49m\u001b[43m)\u001b[49m)\n\u001b[1;32m    422\u001b[0m \u001b[38;5;66;03m# for _ in range(10):\u001b[39;00m\n\u001b[1;32m    423\u001b[0m \u001b[38;5;66;03m#     pool.append(generate_null_stats(X_test, params, on_genes, nPC))\u001b[39;00m\n\u001b[1;32m    425\u001b[0m mean \u001b[38;5;241m=\u001b[39m np\u001b[38;5;241m.\u001b[39mmean(pool)\n",
            "File \u001b[0;32m~/miniconda3/envs/sclens/lib/python3.11/site-packages/joblib/parallel.py:1918\u001b[0m, in \u001b[0;36mParallel.__call__\u001b[0;34m(self, iterable)\u001b[0m\n\u001b[1;32m   1916\u001b[0m     output \u001b[38;5;241m=\u001b[39m \u001b[38;5;28mself\u001b[39m\u001b[38;5;241m.\u001b[39m_get_sequential_output(iterable)\n\u001b[1;32m   1917\u001b[0m     \u001b[38;5;28mnext\u001b[39m(output)\n\u001b[0;32m-> 1918\u001b[0m     \u001b[38;5;28;01mreturn\u001b[39;00m output \u001b[38;5;28;01mif\u001b[39;00m \u001b[38;5;28mself\u001b[39m\u001b[38;5;241m.\u001b[39mreturn_generator \u001b[38;5;28;01melse\u001b[39;00m \u001b[38;5;28mlist\u001b[39m(output)\n\u001b[1;32m   1920\u001b[0m \u001b[38;5;66;03m# Let's create an ID that uniquely identifies the current call. If the\u001b[39;00m\n\u001b[1;32m   1921\u001b[0m \u001b[38;5;66;03m# call is interrupted early and that the same instance is immediately\u001b[39;00m\n\u001b[1;32m   1922\u001b[0m \u001b[38;5;66;03m# re-used, this id will be used to prevent workers that were\u001b[39;00m\n\u001b[1;32m   1923\u001b[0m \u001b[38;5;66;03m# concurrently finalizing a task from the previous call to run the\u001b[39;00m\n\u001b[1;32m   1924\u001b[0m \u001b[38;5;66;03m# callback.\u001b[39;00m\n\u001b[1;32m   1925\u001b[0m \u001b[38;5;28;01mwith\u001b[39;00m \u001b[38;5;28mself\u001b[39m\u001b[38;5;241m.\u001b[39m_lock:\n",
            "File \u001b[0;32m~/miniconda3/envs/sclens/lib/python3.11/site-packages/joblib/parallel.py:1847\u001b[0m, in \u001b[0;36mParallel._get_sequential_output\u001b[0;34m(self, iterable)\u001b[0m\n\u001b[1;32m   1845\u001b[0m \u001b[38;5;28mself\u001b[39m\u001b[38;5;241m.\u001b[39mn_dispatched_batches \u001b[38;5;241m+\u001b[39m\u001b[38;5;241m=\u001b[39m \u001b[38;5;241m1\u001b[39m\n\u001b[1;32m   1846\u001b[0m \u001b[38;5;28mself\u001b[39m\u001b[38;5;241m.\u001b[39mn_dispatched_tasks \u001b[38;5;241m+\u001b[39m\u001b[38;5;241m=\u001b[39m \u001b[38;5;241m1\u001b[39m\n\u001b[0;32m-> 1847\u001b[0m res \u001b[38;5;241m=\u001b[39m \u001b[43mfunc\u001b[49m\u001b[43m(\u001b[49m\u001b[38;5;241;43m*\u001b[39;49m\u001b[43margs\u001b[49m\u001b[43m,\u001b[49m\u001b[43m \u001b[49m\u001b[38;5;241;43m*\u001b[39;49m\u001b[38;5;241;43m*\u001b[39;49m\u001b[43mkwargs\u001b[49m\u001b[43m)\u001b[49m\n\u001b[1;32m   1848\u001b[0m \u001b[38;5;28mself\u001b[39m\u001b[38;5;241m.\u001b[39mn_completed_tasks \u001b[38;5;241m+\u001b[39m\u001b[38;5;241m=\u001b[39m \u001b[38;5;241m1\u001b[39m\n\u001b[1;32m   1849\u001b[0m \u001b[38;5;28mself\u001b[39m\u001b[38;5;241m.\u001b[39mprint_progress()\n",
            "File \u001b[0;32m~/Documents/scLENS-py/scLENS/cluster_utils.py:392\u001b[0m, in \u001b[0;36mgenerate_null_stats\u001b[0;34m(X, params, on_genes, nPC)\u001b[0m\n\u001b[1;32m    389\u001b[0m y \u001b[38;5;241m=\u001b[39m np\u001b[38;5;241m.\u001b[39mexp(y)\u001b[38;5;241m.\u001b[39mT\n\u001b[1;32m    390\u001b[0m null[:, on_genes] \u001b[38;5;241m=\u001b[39m rng\u001b[38;5;241m.\u001b[39mpoisson(y)\n\u001b[0;32m--> 392\u001b[0m null \u001b[38;5;241m=\u001b[39m \u001b[43mpreprocess\u001b[49m\u001b[43m(\u001b[49m\u001b[43mnull\u001b[49m\u001b[43m)\u001b[49m\n\u001b[1;32m    393\u001b[0m null_gm \u001b[38;5;241m=\u001b[39m reduce_dim(null, nPC)\n\u001b[1;32m    394\u001b[0m dist \u001b[38;5;241m=\u001b[39m scipy\u001b[38;5;241m.\u001b[39mspatial\u001b[38;5;241m.\u001b[39mdistance\u001b[38;5;241m.\u001b[39mpdist(null_gm, \u001b[38;5;124m'\u001b[39m\u001b[38;5;124mcosine\u001b[39m\u001b[38;5;124m'\u001b[39m)\n",
            "File \u001b[0;32m~/Documents/scLENS-py/scLENS/cluster_utils.py:443\u001b[0m, in \u001b[0;36mpreprocess\u001b[0;34m(X)\u001b[0m\n\u001b[1;32m    441\u001b[0m l1_norm \u001b[38;5;241m=\u001b[39m np\u001b[38;5;241m.\u001b[39mlinalg\u001b[38;5;241m.\u001b[39mnorm(X, \u001b[38;5;28mord\u001b[39m\u001b[38;5;241m=\u001b[39m\u001b[38;5;241m1\u001b[39m, axis\u001b[38;5;241m=\u001b[39m\u001b[38;5;241m1\u001b[39m)\n\u001b[1;32m    442\u001b[0m X \u001b[38;5;241m=\u001b[39m np\u001b[38;5;241m.\u001b[39mtranspose(X\u001b[38;5;241m.\u001b[39mT \u001b[38;5;241m/\u001b[39m l1_norm)\n\u001b[0;32m--> 443\u001b[0m X \u001b[38;5;241m=\u001b[39m \u001b[43mnp\u001b[49m\u001b[38;5;241;43m.\u001b[39;49m\u001b[43mlog\u001b[49m\u001b[43m(\u001b[49m\u001b[38;5;241;43m1\u001b[39;49m\u001b[43m \u001b[49m\u001b[38;5;241;43m+\u001b[39;49m\u001b[43m \u001b[49m\u001b[43mX\u001b[49m\u001b[43m)\u001b[49m\n\u001b[1;32m    445\u001b[0m \u001b[38;5;66;03m# Z-score normalization\u001b[39;00m\n\u001b[1;32m    446\u001b[0m mean \u001b[38;5;241m=\u001b[39m np\u001b[38;5;241m.\u001b[39mmean(X, axis\u001b[38;5;241m=\u001b[39m\u001b[38;5;241m0\u001b[39m)\n",
            "\u001b[0;31mKeyboardInterrupt\u001b[0m: "
          ]
        }
      ],
      "source": [
        "chsr_score, mltk_score = evaluate(filepaths, save, save_noscl, overwrite=True, **params)"
      ]
    },
    {
      "cell_type": "code",
      "execution_count": null,
      "metadata": {
        "id": "MIVVCEqLe664"
      },
      "outputs": [],
      "source": [
        "save.mean()"
      ]
    },
    {
      "cell_type": "markdown",
      "metadata": {
        "id": "Kr5HM_i6hoKH"
      },
      "source": [
        "# Load Scores, Compare"
      ]
    },
    {
      "cell_type": "code",
      "execution_count": null,
      "metadata": {
        "id": "XJ-yeQo-2mkR"
      },
      "outputs": [],
      "source": [
        "import pandas as pd\n",
        "import matplotlib.pyplot as plt\n",
        "import numpy as np"
      ]
    },
    {
      "cell_type": "code",
      "execution_count": null,
      "metadata": {
        "id": "NTYGGZpE2zZ3"
      },
      "outputs": [],
      "source": [
        "from google.colab import drive\n",
        "drive.mount('/content/drive')\n",
        "%cd /content/drive/MyDrive/BIMAG"
      ]
    },
    {
      "cell_type": "code",
      "execution_count": null,
      "metadata": {
        "id": "rUaYiqS_x62d"
      },
      "outputs": [],
      "source": [
        "save_ecc = pd.read_csv('save.csv', index_col=0)\n",
        "save_ecc"
      ]
    },
    {
      "cell_type": "code",
      "execution_count": null,
      "metadata": {
        "id": "I_fSnoTZX61q"
      },
      "outputs": [],
      "source": [
        "save_rand_nmi = pd.read_csv('RandIndex_NMI.csv', index_col=0)\n",
        "save_rand_nmi"
      ]
    },
    {
      "cell_type": "code",
      "execution_count": null,
      "metadata": {
        "id": "Ae2kNDi9YDv6"
      },
      "outputs": [],
      "source": [
        "scl_scores = pd.concat([save_ecc, save_rand_nmi], axis=1)\n",
        "scl_scores = scl_scores.drop(['ChooseR_ECC', 'ChooseR_RandIndex', 'ChooseR_NormMI'], axis=1)\n",
        "scl_scores"
      ]
    },
    {
      "cell_type": "code",
      "execution_count": null,
      "metadata": {
        "id": "krFl-uqmZyO6"
      },
      "outputs": [],
      "source": [
        "scl_scores.mean()"
      ]
    },
    {
      "cell_type": "code",
      "execution_count": null,
      "metadata": {
        "id": "LCoJBOOSaBrW"
      },
      "outputs": [],
      "source": [
        "noscl_scores = pd.read_csv('save_no_sclens.csv', index_col=0)\n",
        "noscl_scores"
      ]
    },
    {
      "cell_type": "code",
      "execution_count": null,
      "metadata": {
        "id": "1yiJ6Ilyht7n"
      },
      "outputs": [],
      "source": [
        "scl_means = scl_scores.mean()\n",
        "noscl_means = noscl_scores.mean()\n",
        "\n",
        "scores = {'scLENS + MultiK': [scl_means['MultiK_RandIndex'], scl_means['MultiK_NormMI'], scl_means['MultiK_ECC']],\n",
        "          'MultiK': [noscl_means['MultiK_RandIndex'], noscl_means['MultiK_NormMI'], noscl_means['MultiK_ECC']]}\n",
        "schemes = ['Rand Index', 'Norm Mutual Information', 'Element-Centric']\n",
        "\n",
        "x = np.arange(len(schemes))\n",
        "width = 0.25\n",
        "multiplier = 0\n",
        "\n",
        "fig, ax = plt.subplots(layout='constrained')\n",
        "\n",
        "for name, val in scores.items():\n",
        "    offset = width * multiplier\n",
        "    rects = ax.bar(x + offset, val, width, label=name)\n",
        "    ax.bar_label(rects, padding=2)\n",
        "    multiplier += 1\n",
        "\n",
        "ax.set_ylabel('Score')\n",
        "ax.set_title('Mean Scores')\n",
        "ax.set_xticks(x + width/2, schemes)\n",
        "ax.legend(loc='upper right', ncols=2)\n",
        "\n",
        "plt.show()"
      ]
    },
    {
      "cell_type": "markdown",
      "metadata": {
        "id": "0IzHwRk0huLg"
      },
      "source": [
        "# Per Dataset"
      ]
    },
    {
      "cell_type": "code",
      "execution_count": null,
      "metadata": {
        "id": "vFPTCpUu3mMJ"
      },
      "outputs": [],
      "source": [
        "fig = plt.figure(figsize=(5, 10))\n",
        "ax = fig.add_subplot(111)\n",
        "\n",
        "for dataset in scl_scores.index:\n",
        "  scl = scl_scores.loc[dataset, 'MultiK_ECC']\n",
        "  noscl = noscl_scores.loc[dataset, 'MultiK_ECC']\n",
        "\n",
        "  ax.plot([0, 1], [noscl, scl], 'k--', linewidth=1)\n",
        "  ax.scatter(0, noscl, color='k')\n",
        "  ax.scatter(1, scl, color='k')\n",
        "\n",
        "ax.set_title('Per-Dataset ECC')\n",
        "ax.set_xticks([0, 1])\n",
        "ax.set_xticklabels(['No scLENS', 'scLENS'])\n",
        "ax.set_ylabel('ECC Score')\n",
        "\n",
        "plt.show()"
      ]
    },
    {
      "cell_type": "code",
      "execution_count": null,
      "metadata": {
        "id": "etMQPG1vcWYo"
      },
      "outputs": [],
      "source": [
        "fig = plt.figure(figsize=(5, 10))\n",
        "ax = fig.add_subplot(111)\n",
        "\n",
        "for dataset in scl_scores.index:\n",
        "  scl = scl_scores.loc[dataset, 'MultiK_RandIndex']\n",
        "  noscl = noscl_scores.loc[dataset, 'MultiK_RandIndex']\n",
        "\n",
        "  ax.plot([0, 1], [noscl, scl], 'k--', linewidth=1)\n",
        "  ax.scatter(0, noscl, color='k')\n",
        "  ax.scatter(1, scl, color='k')\n",
        "\n",
        "ax.set_title('Per-Dataset Rand Index')\n",
        "ax.set_xticks([0, 1])\n",
        "ax.set_xticklabels(['No scLENS', 'scLENS'])\n",
        "ax.set_ylabel('Rand Index Score')\n",
        "\n",
        "plt.show()"
      ]
    },
    {
      "cell_type": "code",
      "execution_count": null,
      "metadata": {
        "id": "X6-E_J4aeF4y"
      },
      "outputs": [],
      "source": [
        "fig = plt.figure(figsize=(5, 10))\n",
        "ax = fig.add_subplot(111)\n",
        "\n",
        "for dataset in scl_scores.index:\n",
        "  scl = scl_scores.loc[dataset, 'MultiK_NormMI']\n",
        "  noscl = noscl_scores.loc[dataset, 'MultiK_NormMI']\n",
        "\n",
        "  ax.plot([0, 1], [noscl, scl], 'k--', linewidth=1)\n",
        "  ax.scatter(0, noscl, color='k')\n",
        "  ax.scatter(1, scl, color='k')\n",
        "\n",
        "ax.set_title('Per-Dataset NMI')\n",
        "ax.set_xticks([0, 1])\n",
        "ax.set_xticklabels(['No scLENS', 'scLENS'])\n",
        "ax.set_ylabel('Norm Mutual Information Score')\n",
        "\n",
        "plt.show()"
      ]
    },
    {
      "cell_type": "markdown",
      "metadata": {
        "id": "CiYPB4HdhxJ3"
      },
      "source": [
        "# Investigate"
      ]
    },
    {
      "cell_type": "code",
      "execution_count": null,
      "metadata": {
        "id": "PDBVzNI6R5ex"
      },
      "outputs": [],
      "source": [
        "from scLENS.clustering import multiK"
      ]
    },
    {
      "cell_type": "code",
      "execution_count": null,
      "metadata": {
        "id": "umotCq_5eTtT"
      },
      "outputs": [],
      "source": [
        "scl_check = scl_scores.drop(['MultiK_RandIndex', 'MultiK_NormMI'], axis=1)[scl_scores['MultiK_ECC'] < noscl_scores['MultiK_ECC']]\n",
        "noscl_check = noscl_scores.drop(['MultiK_RandIndex', 'MultiK_NormMI'], axis=1)[scl_scores['MultiK_ECC'] < noscl_scores['MultiK_ECC']]\n",
        "scl_check"
      ]
    },
    {
      "cell_type": "code",
      "execution_count": null,
      "metadata": {
        "id": "8lKRy1IgfyiW"
      },
      "outputs": [],
      "source": [
        "noscl_check"
      ]
    },
    {
      "cell_type": "code",
      "execution_count": null,
      "metadata": {
        "id": "WwA4G0i2gRbp"
      },
      "outputs": [],
      "source": [
        "for dataset in scl_check.index:\n",
        "  df = pd.read_csv(dataset)\n",
        "  y_true = df['cell']\n",
        "  df = df.drop(['cell'], axis=1)\n",
        "\n",
        "  scl = scLENS(device=torch.device('cuda:0'))\n",
        "  scl.preprocess(df)\n",
        "  X_transform_scl = scl.fit_transform()\n",
        "  mltk_scl = scl.cluster(df, method='multiK', **params)\n",
        "\n",
        "  adata = anndata.AnnData(X=df, obs=pd.DataFrame(y_true))\n",
        "\n",
        "  sc.pp.filter_cells(adata, min_genes=200)\n",
        "  sc.pp.filter_genes(adata, min_cells=3)\n",
        "\n",
        "  sc.pp.calculate_qc_metrics(adata, percent_top=None, log1p=False, inplace=True)\n",
        "\n",
        "  adata = adata[adata.obs.n_genes_by_counts < 2500, :]\n",
        "\n",
        "  sc.pp.normalize_total(adata, target_sum=1e4)\n",
        "  sc.pp.log1p(adata)\n",
        "  sc.pp.highly_variable_genes(adata, min_mean=0.0125, max_mean=3, min_disp=0.5)\n",
        "  adata = adata[:, adata.var.highly_variable]\n",
        "  sc.pp.scale(adata, max_value=10)\n",
        "\n",
        "  sc.tl.pca(adata, svd_solver='arpack')\n",
        "\n",
        "  X_transform_noscl = adata.obsm['X_pca']\n",
        "  y_true_noscl = adata.obs['cell']\n",
        "\n",
        "  res = multiK(X_transform_noscl, **params)\n",
        "\n",
        "  mltk_noscl = find_clusters(X_transform_noscl,\n",
        "                             n_neighbors=20,\n",
        "                             min_weight=1/15,\n",
        "                             res=res,\n",
        "                             n_iterations=-1)\n",
        "\n",
        "  display_mappings(X_transform_scl, [y_true, mltk_scl], ['True', 'scLENS MultiK'])\n",
        "  display_mappings(X_transform_noscl, [y_true_noscl, mltk_noscl], ['True', 'No scLENS MultiK'])"
      ]
    },
    {
      "cell_type": "code",
      "execution_count": null,
      "metadata": {
        "id": "1TP4kwcWiJ48"
      },
      "outputs": [],
      "source": []
    }
  ],
  "metadata": {
    "accelerator": "GPU",
    "colab": {
      "gpuType": "V100",
      "machine_shape": "hm",
      "provenance": [],
      "toc_visible": true
    },
    "kernelspec": {
      "display_name": "Python 3",
      "name": "python3"
    },
    "language_info": {
      "codemirror_mode": {
        "name": "ipython",
        "version": 3
      },
      "file_extension": ".py",
      "mimetype": "text/x-python",
      "name": "python",
      "nbconvert_exporter": "python",
      "pygments_lexer": "ipython3",
      "version": "3.11.9"
    },
    "widgets": {
      "application/vnd.jupyter.widget-state+json": {
        "2892d619bab9419ea856830d0625655c": {
          "model_module": "@jupyter-widgets/controls",
          "model_module_version": "1.5.0",
          "model_name": "FloatProgressModel",
          "state": {
            "_dom_classes": [],
            "_model_module": "@jupyter-widgets/controls",
            "_model_module_version": "1.5.0",
            "_model_name": "FloatProgressModel",
            "_view_count": null,
            "_view_module": "@jupyter-widgets/controls",
            "_view_module_version": "1.5.0",
            "_view_name": "ProgressView",
            "bar_style": "success",
            "description": "",
            "description_tooltip": null,
            "layout": "IPY_MODEL_3a6ae9f335a740f5afe0aaeabb4c7484",
            "max": 10,
            "min": 0,
            "orientation": "horizontal",
            "style": "IPY_MODEL_42a8a760c9e74cf2a0ac334aef3ebc8f",
            "value": 10
          }
        },
        "3a6ae9f335a740f5afe0aaeabb4c7484": {
          "model_module": "@jupyter-widgets/base",
          "model_module_version": "1.2.0",
          "model_name": "LayoutModel",
          "state": {
            "_model_module": "@jupyter-widgets/base",
            "_model_module_version": "1.2.0",
            "_model_name": "LayoutModel",
            "_view_count": null,
            "_view_module": "@jupyter-widgets/base",
            "_view_module_version": "1.2.0",
            "_view_name": "LayoutView",
            "align_content": null,
            "align_items": null,
            "align_self": null,
            "border": null,
            "bottom": null,
            "display": null,
            "flex": null,
            "flex_flow": null,
            "grid_area": null,
            "grid_auto_columns": null,
            "grid_auto_flow": null,
            "grid_auto_rows": null,
            "grid_column": null,
            "grid_gap": null,
            "grid_row": null,
            "grid_template_areas": null,
            "grid_template_columns": null,
            "grid_template_rows": null,
            "height": null,
            "justify_content": null,
            "justify_items": null,
            "left": null,
            "margin": null,
            "max_height": null,
            "max_width": null,
            "min_height": null,
            "min_width": null,
            "object_fit": null,
            "object_position": null,
            "order": null,
            "overflow": null,
            "overflow_x": null,
            "overflow_y": null,
            "padding": null,
            "right": null,
            "top": null,
            "visibility": null,
            "width": null
          }
        },
        "3b449ce727a7452b973fad6fb02a3fd4": {
          "model_module": "@jupyter-widgets/controls",
          "model_module_version": "1.5.0",
          "model_name": "HBoxModel",
          "state": {
            "_dom_classes": [],
            "_model_module": "@jupyter-widgets/controls",
            "_model_module_version": "1.5.0",
            "_model_name": "HBoxModel",
            "_view_count": null,
            "_view_module": "@jupyter-widgets/controls",
            "_view_module_version": "1.5.0",
            "_view_name": "HBoxView",
            "box_style": "",
            "children": [
              "IPY_MODEL_c88f13feabf84c9d90e7b70365123955",
              "IPY_MODEL_2892d619bab9419ea856830d0625655c",
              "IPY_MODEL_4825af129efe45cab434c5cfe5cd8a78"
            ],
            "layout": "IPY_MODEL_68493fe32cae4854b47f3b45938c537d"
          }
        },
        "42a8a760c9e74cf2a0ac334aef3ebc8f": {
          "model_module": "@jupyter-widgets/controls",
          "model_module_version": "1.5.0",
          "model_name": "ProgressStyleModel",
          "state": {
            "_model_module": "@jupyter-widgets/controls",
            "_model_module_version": "1.5.0",
            "_model_name": "ProgressStyleModel",
            "_view_count": null,
            "_view_module": "@jupyter-widgets/base",
            "_view_module_version": "1.2.0",
            "_view_name": "StyleView",
            "bar_color": null,
            "description_width": ""
          }
        },
        "4825af129efe45cab434c5cfe5cd8a78": {
          "model_module": "@jupyter-widgets/controls",
          "model_module_version": "1.5.0",
          "model_name": "HTMLModel",
          "state": {
            "_dom_classes": [],
            "_model_module": "@jupyter-widgets/controls",
            "_model_module_version": "1.5.0",
            "_model_name": "HTMLModel",
            "_view_count": null,
            "_view_module": "@jupyter-widgets/controls",
            "_view_module_version": "1.5.0",
            "_view_name": "HTMLView",
            "description": "",
            "description_tooltip": null,
            "layout": "IPY_MODEL_fc576b1d528545c083352e9b68f116ec",
            "placeholder": "​",
            "style": "IPY_MODEL_b1233b3106454fa0a6b4f23aaed6f896",
            "value": " 10/10 [02:37&lt;00:00, 15.76s/it]"
          }
        },
        "6071851b61ec447ab3cbbb7bccb63362": {
          "model_module": "@jupyter-widgets/controls",
          "model_module_version": "1.5.0",
          "model_name": "DescriptionStyleModel",
          "state": {
            "_model_module": "@jupyter-widgets/controls",
            "_model_module_version": "1.5.0",
            "_model_name": "DescriptionStyleModel",
            "_view_count": null,
            "_view_module": "@jupyter-widgets/base",
            "_view_module_version": "1.2.0",
            "_view_name": "StyleView",
            "description_width": ""
          }
        },
        "68493fe32cae4854b47f3b45938c537d": {
          "model_module": "@jupyter-widgets/base",
          "model_module_version": "1.2.0",
          "model_name": "LayoutModel",
          "state": {
            "_model_module": "@jupyter-widgets/base",
            "_model_module_version": "1.2.0",
            "_model_name": "LayoutModel",
            "_view_count": null,
            "_view_module": "@jupyter-widgets/base",
            "_view_module_version": "1.2.0",
            "_view_name": "LayoutView",
            "align_content": null,
            "align_items": null,
            "align_self": null,
            "border": null,
            "bottom": null,
            "display": null,
            "flex": null,
            "flex_flow": null,
            "grid_area": null,
            "grid_auto_columns": null,
            "grid_auto_flow": null,
            "grid_auto_rows": null,
            "grid_column": null,
            "grid_gap": null,
            "grid_row": null,
            "grid_template_areas": null,
            "grid_template_columns": null,
            "grid_template_rows": null,
            "height": null,
            "justify_content": null,
            "justify_items": null,
            "left": null,
            "margin": null,
            "max_height": null,
            "max_width": null,
            "min_height": null,
            "min_width": null,
            "object_fit": null,
            "object_position": null,
            "order": null,
            "overflow": null,
            "overflow_x": null,
            "overflow_y": null,
            "padding": null,
            "right": null,
            "top": null,
            "visibility": null,
            "width": null
          }
        },
        "ab4fe61754334f69bc190ccbb689474f": {
          "model_module": "@jupyter-widgets/base",
          "model_module_version": "1.2.0",
          "model_name": "LayoutModel",
          "state": {
            "_model_module": "@jupyter-widgets/base",
            "_model_module_version": "1.2.0",
            "_model_name": "LayoutModel",
            "_view_count": null,
            "_view_module": "@jupyter-widgets/base",
            "_view_module_version": "1.2.0",
            "_view_name": "LayoutView",
            "align_content": null,
            "align_items": null,
            "align_self": null,
            "border": null,
            "bottom": null,
            "display": null,
            "flex": null,
            "flex_flow": null,
            "grid_area": null,
            "grid_auto_columns": null,
            "grid_auto_flow": null,
            "grid_auto_rows": null,
            "grid_column": null,
            "grid_gap": null,
            "grid_row": null,
            "grid_template_areas": null,
            "grid_template_columns": null,
            "grid_template_rows": null,
            "height": null,
            "justify_content": null,
            "justify_items": null,
            "left": null,
            "margin": null,
            "max_height": null,
            "max_width": null,
            "min_height": null,
            "min_width": null,
            "object_fit": null,
            "object_position": null,
            "order": null,
            "overflow": null,
            "overflow_x": null,
            "overflow_y": null,
            "padding": null,
            "right": null,
            "top": null,
            "visibility": null,
            "width": null
          }
        },
        "b1233b3106454fa0a6b4f23aaed6f896": {
          "model_module": "@jupyter-widgets/controls",
          "model_module_version": "1.5.0",
          "model_name": "DescriptionStyleModel",
          "state": {
            "_model_module": "@jupyter-widgets/controls",
            "_model_module_version": "1.5.0",
            "_model_name": "DescriptionStyleModel",
            "_view_count": null,
            "_view_module": "@jupyter-widgets/base",
            "_view_module_version": "1.2.0",
            "_view_name": "StyleView",
            "description_width": ""
          }
        },
        "c88f13feabf84c9d90e7b70365123955": {
          "model_module": "@jupyter-widgets/controls",
          "model_module_version": "1.5.0",
          "model_name": "HTMLModel",
          "state": {
            "_dom_classes": [],
            "_model_module": "@jupyter-widgets/controls",
            "_model_module_version": "1.5.0",
            "_model_name": "HTMLModel",
            "_view_count": null,
            "_view_module": "@jupyter-widgets/controls",
            "_view_module_version": "1.5.0",
            "_view_name": "HTMLView",
            "description": "",
            "description_tooltip": null,
            "layout": "IPY_MODEL_ab4fe61754334f69bc190ccbb689474f",
            "placeholder": "​",
            "style": "IPY_MODEL_6071851b61ec447ab3cbbb7bccb63362",
            "value": "100%"
          }
        },
        "fc576b1d528545c083352e9b68f116ec": {
          "model_module": "@jupyter-widgets/base",
          "model_module_version": "1.2.0",
          "model_name": "LayoutModel",
          "state": {
            "_model_module": "@jupyter-widgets/base",
            "_model_module_version": "1.2.0",
            "_model_name": "LayoutModel",
            "_view_count": null,
            "_view_module": "@jupyter-widgets/base",
            "_view_module_version": "1.2.0",
            "_view_name": "LayoutView",
            "align_content": null,
            "align_items": null,
            "align_self": null,
            "border": null,
            "bottom": null,
            "display": null,
            "flex": null,
            "flex_flow": null,
            "grid_area": null,
            "grid_auto_columns": null,
            "grid_auto_flow": null,
            "grid_auto_rows": null,
            "grid_column": null,
            "grid_gap": null,
            "grid_row": null,
            "grid_template_areas": null,
            "grid_template_columns": null,
            "grid_template_rows": null,
            "height": null,
            "justify_content": null,
            "justify_items": null,
            "left": null,
            "margin": null,
            "max_height": null,
            "max_width": null,
            "min_height": null,
            "min_width": null,
            "object_fit": null,
            "object_position": null,
            "order": null,
            "overflow": null,
            "overflow_x": null,
            "overflow_y": null,
            "padding": null,
            "right": null,
            "top": null,
            "visibility": null,
            "width": null
          }
        }
      }
    }
  },
  "nbformat": 4,
  "nbformat_minor": 0
}
