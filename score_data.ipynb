{
  "cells": [
    {
      "cell_type": "code",
      "execution_count": 1,
      "metadata": {
        "id": "ohyVi4n_MXvY"
      },
      "outputs": [
        {
          "name": "stderr",
          "output_type": "stream",
          "text": [
            "/home/sclens/miniconda3/envs/sclens/lib/python3.9/site-packages/tqdm/auto.py:21: TqdmWarning: IProgress not found. Please update jupyter and ipywidgets. See https://ipywidgets.readthedocs.io/en/stable/user_install.html\n",
            "  from .autonotebook import tqdm as notebook_tqdm\n",
            "/home/sclens/miniconda3/envs/sclens/lib/python3.9/site-packages/dask/dataframe/__init__.py:49: FutureWarning: \n",
            "Dask dataframe query planning is disabled because dask-expr is not installed.\n",
            "\n",
            "You can install it with `pip install dask[dataframe]` or `conda install dask`.\n",
            "This will raise in a future version.\n",
            "\n",
            "  warnings.warn(msg, FutureWarning)\n",
            "/home/sclens/miniconda3/envs/sclens/lib/python3.9/site-packages/numba/np/ufunc/dufunc.py:343: NumbaWarning: \u001b[1mCompilation requested for previously compiled argument types ((uint32,)). This has no effect and perhaps indicates a bug in the calling code (compiling a ufunc more than once for the same signature\u001b[0m\n",
            "  warnings.warn(msg, errors.NumbaWarning)\n",
            "/home/sclens/miniconda3/envs/sclens/lib/python3.9/site-packages/numba/np/ufunc/dufunc.py:343: NumbaWarning: \u001b[1mCompilation requested for previously compiled argument types ((uint32,)). This has no effect and perhaps indicates a bug in the calling code (compiling a ufunc more than once for the same signature\u001b[0m\n",
            "  warnings.warn(msg, errors.NumbaWarning)\n",
            "/home/sclens/miniconda3/envs/sclens/lib/python3.9/site-packages/numba/np/ufunc/dufunc.py:343: NumbaWarning: \u001b[1mCompilation requested for previously compiled argument types ((uint32,)). This has no effect and perhaps indicates a bug in the calling code (compiling a ufunc more than once for the same signature\u001b[0m\n",
            "  warnings.warn(msg, errors.NumbaWarning)\n"
          ]
        }
      ],
      "source": [
        "import numpy as np\n",
        "import pandas as pd\n",
        "import torch\n",
        "from scLENS import scLENS\n",
        "\n",
        "import cProfile, pstats\n",
        "import umap\n",
        "import umap.plot\n",
        "\n",
        "from sklearn.metrics import rand_score, normalized_mutual_info_score\n",
        "from clusim.clustering import Clustering\n",
        "import clusim.sim as sim\n",
        "\n",
        "import matplotlib.pyplot as plt\n",
        "import seaborn as sns\n",
        "\n",
        "import re\n",
        "from scLENS.clustering import scSHC, find_clusters\n",
        "import anndata\n",
        "import scanpy as sc"
      ]
    },
    {
      "cell_type": "markdown",
      "metadata": {
        "id": "7VWhvGzBhdGx"
      },
      "source": [
        "# Params"
      ]
    },
    {
      "cell_type": "code",
      "execution_count": 2,
      "metadata": {
        "id": "oQyDMPuZ_2IE"
      },
      "outputs": [],
      "source": [
        "  # Method-agnostic hyperparameters\n",
        "params = {'resolutions': np.arange(0.1, 2, 0.1), #np.arange(0.05, 2, 0.05), # [0.3, 0.5, 0.8, 1, 1.2, 1.6, 2, 4, 6, 8],\n",
        "          'reps': 10,\n",
        "          'n_jobs': -1}"
      ]
    },
    {
      "cell_type": "code",
      "execution_count": 3,
      "metadata": {
        "id": "_OWlhnQl8e2t"
      },
      "outputs": [],
      "source": [
        "colors = ['tab:blue','tab:orange','tab:green','tab:red','tab:purple','tab:brown','tab:pink','tab:gray', 'tab:olive', 'tab:cyan', 'k']"
      ]
    },
    {
      "cell_type": "markdown",
      "metadata": {
        "id": "AL4xJSm2hfoZ"
      },
      "source": [
        "# Display Helper"
      ]
    },
    {
      "cell_type": "code",
      "execution_count": 4,
      "metadata": {
        "id": "djMeyum4R-vX"
      },
      "outputs": [],
      "source": [
        "def display_mappings(X, clusterings, names):\n",
        "  mapper = umap.UMAP(metric='cosine').fit_transform(X)\n",
        "\n",
        "  fig, axs = plt.subplots(1, len(clusterings), figsize=(40, 10))\n",
        "  for ax, cls in enumerate(clusterings):\n",
        "    labels = np.unique(cls)\n",
        "    for i, l in enumerate(labels):\n",
        "      idx = np.where(cls == l)\n",
        "      axs[ax].scatter(mapper[idx, 0], mapper[idx, 1], s=2, label=l)\n",
        "\n",
        "    axs[ax].legend()\n",
        "    axs[ax].set_xlabel('UMAP1')\n",
        "    axs[ax].set_ylabel('UMAP2')\n",
        "    axs[ax].tick_params(axis='both',\n",
        "                  which='both',\n",
        "                  bottom=False,\n",
        "                  top=False,\n",
        "                  labelbottom=False,\n",
        "                  labelleft=False)\n",
        "    axs[ax].set_title(names[ax])\n",
        "  plt.show()"
      ]
    },
    {
      "cell_type": "markdown",
      "metadata": {
        "id": "7lVb55s6hhmy"
      },
      "source": [
        "# Evaluate Func"
      ]
    },
    {
      "cell_type": "code",
      "execution_count": 5,
      "metadata": {
        "id": "v7pEdOWbtNRy"
      },
      "outputs": [],
      "source": [
        "def evaluate(filepaths, save_scl, overwrite=False, **params):\n",
        "  scl_pool = []\n",
        "\n",
        "  for file in filepaths:\n",
        "    if overwrite or save.loc[file].isnull().all():\n",
        "      print(file)\n",
        "      if 'sim' in file:\n",
        "        alpha = 0.05\n",
        "      else:\n",
        "        alpha = 0.25\n",
        "\n",
        "      df = pd.read_csv(file)\n",
        "      y_true_full = df['cell']\n",
        "      df = df.drop('cell', axis=1)\n",
        "\n",
        "      sclens = scLENS(device=torch.device('cuda:0'))\n",
        "      sclens.preprocess(df)\n",
        "      X_transform = sclens.fit_transform()\n",
        "\n",
        "      sch_scl = sclens.cluster(df, method='scSHC', alpha=alpha, n_jobs=-1)\n",
        "\n",
        "      sch_cls_scl = Clustering().from_membership_list(sch_scl)\n",
        "      true_cls = Clustering().from_membership_list(y_true_full)\n",
        "\n",
        "      display_mappings(X_transform, [y_true, sch_scl], ['True', 'scLENS + scSHC'])\n",
        "\n",
        "      scl_score = sim.element_sim(true_cls, sch_cls_scl)\n",
        "\n",
        "      scl_pool.append(scl_score)\n",
        "\n",
        "      scores = {'scLENS + scSHC': scl_score}\n",
        "      schemes = ['Element-Centric Clustering']\n",
        "\n",
        "      x = np.arange(len(schemes))\n",
        "      width = 0.25\n",
        "      multiplier = 0\n",
        "\n",
        "      fig, ax = plt.subplots(layout='constrained')\n",
        "\n",
        "      for name, val in scores.items():\n",
        "          offset = width * multiplier\n",
        "          rects = ax.bar(x + offset, val, width, label=name)\n",
        "          ax.bar_label(rects, padding=2)\n",
        "          multiplier += 1\n",
        "\n",
        "      ax.set_ylabel('Score')\n",
        "      ax.set_title(' '.join(file.split('/')[2:]))\n",
        "      ax.set_xticks(x + width/2, schemes)\n",
        "      ax.legend(loc='upper right', ncols=2)\n",
        "\n",
        "      plt.show()\n",
        "      del sclens\n",
        "      torch.cuda.empty_cache()\n",
        "\n",
        "      save_scl.loc[file, 'ECC'] = scl_score\n",
        "      save_scl.to_csv('scSHC_scores.csv')\n",
        "\n",
        "  return scl_pool"
      ]
    },
    {
      "cell_type": "markdown",
      "metadata": {
        "id": "ROSv776MhkUF"
      },
      "source": [
        "# Run Dataset Evaluation"
      ]
    },
    {
      "cell_type": "code",
      "execution_count": 6,
      "metadata": {
        "colab": {
          "base_uri": "https://localhost:8080/"
        },
        "id": "ub8yJ5hiuhxQ",
        "outputId": "83a4172d-3d2c-4cb7-8891-9f9434ffa3e0"
      },
      "outputs": [
        {
          "data": {
            "text/plain": [
              "['data/Zheng_real_data/Imbalanced/z_data_3706.csv.gz',\n",
              " 'data/Zheng_real_data/Imbalanced/z_data_4757.csv.gz',\n",
              " 'data/Zheng_real_data/Imbalanced/z_data_4292.csv.gz',\n",
              " 'data/Zheng_real_data/Imbalanced/z_data_5730.csv.gz',\n",
              " 'data/Zheng_real_data/Imbalanced/z_data_4952.csv.gz',\n",
              " 'data/Zheng_real_data/Balanced/z_data_12073.csv.gz',\n",
              " 'data/Zheng_real_data/Balanced/z_data_3869.csv.gz',\n",
              " 'data/Zheng_real_data/Balanced/z_data_7993.csv.gz',\n",
              " 'data/Zheng_real_data/Balanced/z_data_2410.csv.gz',\n",
              " 'data/Zheng_real_data/Balanced/z_data_785.csv.gz',\n",
              " 'data/sim_Tcell/2250-1220.csv.gz',\n",
              " 'data/sim_Tcell/5930-3210.csv.gz',\n",
              " 'data/sim_Tcell/2251-1179.csv.gz',\n",
              " 'data/sim_Tcell/3276-1042.csv.gz',\n",
              " 'data/sim_Tcell/2972-1523.csv.gz',\n",
              " 'data/sim_Tcell/4249-2916.csv.gz',\n",
              " 'data/sim_Tcell/4320-2134.csv.gz',\n",
              " 'data/sim_Tcell/3689-1878.csv.gz',\n",
              " 'data/sim_Tcell/5974-3858.csv.gz',\n",
              " 'data/sim_Tcell/6006-2261.csv.gz',\n",
              " 'data/sim_Tcell/6083-4496.csv.gz',\n",
              " 'data/sim_Tcell/4797-2332.csv.gz',\n",
              " 'data/sim_Tcell/5960-1400.csv.gz',\n",
              " 'data/sim_T_muris/imbalanced/tmp_2.csv.gz',\n",
              " 'data/sim_T_muris/imbalanced/tmp_1.csv.gz',\n",
              " 'data/sim_T_muris/imbalanced/tmp_5.csv.gz',\n",
              " 'data/sim_T_muris/imbalanced/tmp_4.csv.gz',\n",
              " 'data/sim_T_muris/imbalanced/tmp_3.csv.gz',\n",
              " 'data/sim_T_muris/balanced/T_muris_3016.csv.gz',\n",
              " 'data/sim_T_muris/balanced/T_muris_1019.csv.gz',\n",
              " 'data/sim_T_muris/balanced/T_muris_5033.csv.gz',\n",
              " 'data/sim_T_muris/balanced/T_muris_2006.csv.gz',\n",
              " 'data/sim_T_muris/balanced/T_muris_3966.csv.gz',\n",
              " 'data/Z8eq.csv.gz']"
            ]
          },
          "execution_count": 6,
          "metadata": {},
          "output_type": "execute_result"
        }
      ],
      "source": [
        "import os\n",
        "\n",
        "filepaths = []\n",
        "\n",
        "for dir in os.listdir('data'):\n",
        "  if dir.endswith('.csv.gz'):\n",
        "    filepaths.append(os.path.join('data', dir))\n",
        "  else:\n",
        "    for dir2 in os.listdir(os.path.join('data', dir)):\n",
        "      if dir2.endswith('.csv.gz'):\n",
        "        filepaths.append(os.path.join('data', dir, dir2))\n",
        "      else:\n",
        "        for f in os.listdir(os.path.join('data', dir, dir2)):\n",
        "          if f.endswith('.csv.gz'):\n",
        "            filepaths.append(os.path.join('data', dir, dir2, f))\n",
        "\n",
        "filepaths"
      ]
    },
    {
      "cell_type": "code",
      "execution_count": 7,
      "metadata": {
        "id": "gWsK_Pi90TSw"
      },
      "outputs": [],
      "source": [
        "if not os.path.exists('scSHC_scores.csv'):\n",
        "  save = pd.DataFrame(index=filepaths, columns=['ECC'])\n",
        "  save.to_csv('scSHC_scores.csv')\n",
        "else:\n",
        "  save = pd.read_csv('scSHC_scores.csv', index_col=0)"
      ]
    },
    {
      "cell_type": "code",
      "execution_count": 8,
      "metadata": {
        "colab": {
          "base_uri": "https://localhost:8080/",
          "height": 1000
        },
        "id": "2YetzN1H3_vf",
        "outputId": "d7075dab-d7cc-48dd-8458-f019df688041"
      },
      "outputs": [
        {
          "data": {
            "text/html": [
              "<div>\n",
              "<style scoped>\n",
              "    .dataframe tbody tr th:only-of-type {\n",
              "        vertical-align: middle;\n",
              "    }\n",
              "\n",
              "    .dataframe tbody tr th {\n",
              "        vertical-align: top;\n",
              "    }\n",
              "\n",
              "    .dataframe thead th {\n",
              "        text-align: right;\n",
              "    }\n",
              "</style>\n",
              "<table border=\"1\" class=\"dataframe\">\n",
              "  <thead>\n",
              "    <tr style=\"text-align: right;\">\n",
              "      <th></th>\n",
              "      <th>ECC</th>\n",
              "    </tr>\n",
              "  </thead>\n",
              "  <tbody>\n",
              "    <tr>\n",
              "      <th>data/Zheng_real_data/Imbalanced/z_data_3706.csv.gz</th>\n",
              "      <td>0.633685</td>\n",
              "    </tr>\n",
              "    <tr>\n",
              "      <th>data/Zheng_real_data/Imbalanced/z_data_4757.csv.gz</th>\n",
              "      <td>0.403783</td>\n",
              "    </tr>\n",
              "    <tr>\n",
              "      <th>data/Zheng_real_data/Imbalanced/z_data_4292.csv.gz</th>\n",
              "      <td>0.526642</td>\n",
              "    </tr>\n",
              "    <tr>\n",
              "      <th>data/Zheng_real_data/Imbalanced/z_data_5730.csv.gz</th>\n",
              "      <td>NaN</td>\n",
              "    </tr>\n",
              "    <tr>\n",
              "      <th>data/Zheng_real_data/Imbalanced/z_data_4952.csv.gz</th>\n",
              "      <td>NaN</td>\n",
              "    </tr>\n",
              "    <tr>\n",
              "      <th>data/Zheng_real_data/Balanced/z_data_12073.csv.gz</th>\n",
              "      <td>NaN</td>\n",
              "    </tr>\n",
              "    <tr>\n",
              "      <th>data/Zheng_real_data/Balanced/z_data_3869.csv.gz</th>\n",
              "      <td>NaN</td>\n",
              "    </tr>\n",
              "    <tr>\n",
              "      <th>data/Zheng_real_data/Balanced/z_data_7993.csv.gz</th>\n",
              "      <td>NaN</td>\n",
              "    </tr>\n",
              "    <tr>\n",
              "      <th>data/Zheng_real_data/Balanced/z_data_2410.csv.gz</th>\n",
              "      <td>NaN</td>\n",
              "    </tr>\n",
              "    <tr>\n",
              "      <th>data/Zheng_real_data/Balanced/z_data_785.csv.gz</th>\n",
              "      <td>NaN</td>\n",
              "    </tr>\n",
              "    <tr>\n",
              "      <th>data/sim_Tcell/2250-1220.csv.gz</th>\n",
              "      <td>NaN</td>\n",
              "    </tr>\n",
              "    <tr>\n",
              "      <th>data/sim_Tcell/5930-3210.csv.gz</th>\n",
              "      <td>NaN</td>\n",
              "    </tr>\n",
              "    <tr>\n",
              "      <th>data/sim_Tcell/2251-1179.csv.gz</th>\n",
              "      <td>NaN</td>\n",
              "    </tr>\n",
              "    <tr>\n",
              "      <th>data/sim_Tcell/3276-1042.csv.gz</th>\n",
              "      <td>NaN</td>\n",
              "    </tr>\n",
              "    <tr>\n",
              "      <th>data/sim_Tcell/2972-1523.csv.gz</th>\n",
              "      <td>NaN</td>\n",
              "    </tr>\n",
              "    <tr>\n",
              "      <th>data/sim_Tcell/4249-2916.csv.gz</th>\n",
              "      <td>NaN</td>\n",
              "    </tr>\n",
              "    <tr>\n",
              "      <th>data/sim_Tcell/4320-2134.csv.gz</th>\n",
              "      <td>NaN</td>\n",
              "    </tr>\n",
              "    <tr>\n",
              "      <th>data/sim_Tcell/3689-1878.csv.gz</th>\n",
              "      <td>NaN</td>\n",
              "    </tr>\n",
              "    <tr>\n",
              "      <th>data/sim_Tcell/5974-3858.csv.gz</th>\n",
              "      <td>NaN</td>\n",
              "    </tr>\n",
              "    <tr>\n",
              "      <th>data/sim_Tcell/6006-2261.csv.gz</th>\n",
              "      <td>NaN</td>\n",
              "    </tr>\n",
              "    <tr>\n",
              "      <th>data/sim_Tcell/6083-4496.csv.gz</th>\n",
              "      <td>NaN</td>\n",
              "    </tr>\n",
              "    <tr>\n",
              "      <th>data/sim_Tcell/4797-2332.csv.gz</th>\n",
              "      <td>NaN</td>\n",
              "    </tr>\n",
              "    <tr>\n",
              "      <th>data/sim_Tcell/5960-1400.csv.gz</th>\n",
              "      <td>NaN</td>\n",
              "    </tr>\n",
              "    <tr>\n",
              "      <th>data/sim_T_muris/imbalanced/tmp_2.csv.gz</th>\n",
              "      <td>NaN</td>\n",
              "    </tr>\n",
              "    <tr>\n",
              "      <th>data/sim_T_muris/imbalanced/tmp_1.csv.gz</th>\n",
              "      <td>NaN</td>\n",
              "    </tr>\n",
              "    <tr>\n",
              "      <th>data/sim_T_muris/imbalanced/tmp_5.csv.gz</th>\n",
              "      <td>NaN</td>\n",
              "    </tr>\n",
              "    <tr>\n",
              "      <th>data/sim_T_muris/imbalanced/tmp_4.csv.gz</th>\n",
              "      <td>NaN</td>\n",
              "    </tr>\n",
              "    <tr>\n",
              "      <th>data/sim_T_muris/imbalanced/tmp_3.csv.gz</th>\n",
              "      <td>NaN</td>\n",
              "    </tr>\n",
              "    <tr>\n",
              "      <th>data/sim_T_muris/balanced/T_muris_3016.csv.gz</th>\n",
              "      <td>NaN</td>\n",
              "    </tr>\n",
              "    <tr>\n",
              "      <th>data/sim_T_muris/balanced/T_muris_1019.csv.gz</th>\n",
              "      <td>NaN</td>\n",
              "    </tr>\n",
              "    <tr>\n",
              "      <th>data/sim_T_muris/balanced/T_muris_5033.csv.gz</th>\n",
              "      <td>NaN</td>\n",
              "    </tr>\n",
              "    <tr>\n",
              "      <th>data/sim_T_muris/balanced/T_muris_2006.csv.gz</th>\n",
              "      <td>NaN</td>\n",
              "    </tr>\n",
              "    <tr>\n",
              "      <th>data/sim_T_muris/balanced/T_muris_3966.csv.gz</th>\n",
              "      <td>NaN</td>\n",
              "    </tr>\n",
              "    <tr>\n",
              "      <th>data/Z8eq.csv.gz</th>\n",
              "      <td>NaN</td>\n",
              "    </tr>\n",
              "  </tbody>\n",
              "</table>\n",
              "</div>"
            ],
            "text/plain": [
              "                                                         ECC\n",
              "data/Zheng_real_data/Imbalanced/z_data_3706.csv.gz  0.633685\n",
              "data/Zheng_real_data/Imbalanced/z_data_4757.csv.gz  0.403783\n",
              "data/Zheng_real_data/Imbalanced/z_data_4292.csv.gz  0.526642\n",
              "data/Zheng_real_data/Imbalanced/z_data_5730.csv.gz       NaN\n",
              "data/Zheng_real_data/Imbalanced/z_data_4952.csv.gz       NaN\n",
              "data/Zheng_real_data/Balanced/z_data_12073.csv.gz        NaN\n",
              "data/Zheng_real_data/Balanced/z_data_3869.csv.gz         NaN\n",
              "data/Zheng_real_data/Balanced/z_data_7993.csv.gz         NaN\n",
              "data/Zheng_real_data/Balanced/z_data_2410.csv.gz         NaN\n",
              "data/Zheng_real_data/Balanced/z_data_785.csv.gz          NaN\n",
              "data/sim_Tcell/2250-1220.csv.gz                          NaN\n",
              "data/sim_Tcell/5930-3210.csv.gz                          NaN\n",
              "data/sim_Tcell/2251-1179.csv.gz                          NaN\n",
              "data/sim_Tcell/3276-1042.csv.gz                          NaN\n",
              "data/sim_Tcell/2972-1523.csv.gz                          NaN\n",
              "data/sim_Tcell/4249-2916.csv.gz                          NaN\n",
              "data/sim_Tcell/4320-2134.csv.gz                          NaN\n",
              "data/sim_Tcell/3689-1878.csv.gz                          NaN\n",
              "data/sim_Tcell/5974-3858.csv.gz                          NaN\n",
              "data/sim_Tcell/6006-2261.csv.gz                          NaN\n",
              "data/sim_Tcell/6083-4496.csv.gz                          NaN\n",
              "data/sim_Tcell/4797-2332.csv.gz                          NaN\n",
              "data/sim_Tcell/5960-1400.csv.gz                          NaN\n",
              "data/sim_T_muris/imbalanced/tmp_2.csv.gz                 NaN\n",
              "data/sim_T_muris/imbalanced/tmp_1.csv.gz                 NaN\n",
              "data/sim_T_muris/imbalanced/tmp_5.csv.gz                 NaN\n",
              "data/sim_T_muris/imbalanced/tmp_4.csv.gz                 NaN\n",
              "data/sim_T_muris/imbalanced/tmp_3.csv.gz                 NaN\n",
              "data/sim_T_muris/balanced/T_muris_3016.csv.gz            NaN\n",
              "data/sim_T_muris/balanced/T_muris_1019.csv.gz            NaN\n",
              "data/sim_T_muris/balanced/T_muris_5033.csv.gz            NaN\n",
              "data/sim_T_muris/balanced/T_muris_2006.csv.gz            NaN\n",
              "data/sim_T_muris/balanced/T_muris_3966.csv.gz            NaN\n",
              "data/Z8eq.csv.gz                                         NaN"
            ]
          },
          "execution_count": 8,
          "metadata": {},
          "output_type": "execute_result"
        }
      ],
      "source": [
        "save"
      ]
    },
    {
      "cell_type": "code",
      "execution_count": 9,
      "metadata": {
        "colab": {
          "base_uri": "https://localhost:8080/",
          "height": 1000,
          "referenced_widgets": [
            "3b449ce727a7452b973fad6fb02a3fd4",
            "c88f13feabf84c9d90e7b70365123955",
            "2892d619bab9419ea856830d0625655c",
            "4825af129efe45cab434c5cfe5cd8a78",
            "68493fe32cae4854b47f3b45938c537d",
            "ab4fe61754334f69bc190ccbb689474f",
            "6071851b61ec447ab3cbbb7bccb63362",
            "3a6ae9f335a740f5afe0aaeabb4c7484",
            "42a8a760c9e74cf2a0ac334aef3ebc8f",
            "fc576b1d528545c083352e9b68f116ec",
            "b1233b3106454fa0a6b4f23aaed6f896"
          ]
        },
        "id": "zzPmr8Ytz_ms",
        "outputId": "11aaad95-f8ef-4820-95c3-8c4b3f4d5914"
      },
      "outputs": [
        {
          "name": "stdout",
          "output_type": "stream",
          "text": [
            "data/Zheng_real_data/Imbalanced/z_data_3706.csv.gz\n"
          ]
        },
        {
          "ename": "KeyboardInterrupt",
          "evalue": "",
          "output_type": "error",
          "traceback": [
            "\u001b[0;31m---------------------------------------------------------------------------\u001b[0m",
            "\u001b[0;31mKeyboardInterrupt\u001b[0m                         Traceback (most recent call last)",
            "Cell \u001b[0;32mIn[9], line 1\u001b[0m\n\u001b[0;32m----> 1\u001b[0m chsr_score, mltk_score \u001b[38;5;241m=\u001b[39m \u001b[43mevaluate\u001b[49m\u001b[43m(\u001b[49m\u001b[43mfilepaths\u001b[49m\u001b[43m,\u001b[49m\u001b[43m \u001b[49m\u001b[43msave\u001b[49m\u001b[43m,\u001b[49m\u001b[43m \u001b[49m\u001b[43moverwrite\u001b[49m\u001b[38;5;241;43m=\u001b[39;49m\u001b[38;5;28;43;01mTrue\u001b[39;49;00m\u001b[43m,\u001b[49m\u001b[43m \u001b[49m\u001b[38;5;241;43m*\u001b[39;49m\u001b[38;5;241;43m*\u001b[39;49m\u001b[43mparams\u001b[49m\u001b[43m)\u001b[49m\n",
            "Cell \u001b[0;32mIn[5], line 13\u001b[0m, in \u001b[0;36mevaluate\u001b[0;34m(filepaths, save_scl, overwrite, **params)\u001b[0m\n\u001b[1;32m     11\u001b[0m sclens \u001b[38;5;241m=\u001b[39m scLENS(device\u001b[38;5;241m=\u001b[39mtorch\u001b[38;5;241m.\u001b[39mdevice(\u001b[38;5;124m'\u001b[39m\u001b[38;5;124mcuda:0\u001b[39m\u001b[38;5;124m'\u001b[39m))\n\u001b[1;32m     12\u001b[0m sclens\u001b[38;5;241m.\u001b[39mpreprocess(df)\n\u001b[0;32m---> 13\u001b[0m X_transform \u001b[38;5;241m=\u001b[39m \u001b[43msclens\u001b[49m\u001b[38;5;241;43m.\u001b[39;49m\u001b[43mfit_transform\u001b[49m\u001b[43m(\u001b[49m\u001b[43m)\u001b[49m\n\u001b[1;32m     15\u001b[0m sch_scl \u001b[38;5;241m=\u001b[39m sclens\u001b[38;5;241m.\u001b[39mcluster(df, method\u001b[38;5;241m=\u001b[39m\u001b[38;5;124m'\u001b[39m\u001b[38;5;124mscSHC\u001b[39m\u001b[38;5;124m'\u001b[39m, n_jobs\u001b[38;5;241m=\u001b[39m\u001b[38;5;241m-\u001b[39m\u001b[38;5;241m1\u001b[39m)\n\u001b[1;32m     17\u001b[0m sch_cls_scl \u001b[38;5;241m=\u001b[39m Clustering()\u001b[38;5;241m.\u001b[39mfrom_membership_list(sch_scl)\n",
            "File \u001b[0;32m~/Documents/scLENS-py/scLENS/scLENS.py:342\u001b[0m, in \u001b[0;36mscLENS.fit_transform\u001b[0;34m(self, data, plot_mp)\u001b[0m\n\u001b[1;32m    328\u001b[0m \u001b[38;5;28;01mdef\u001b[39;00m \u001b[38;5;21mfit_transform\u001b[39m(\u001b[38;5;28mself\u001b[39m, data\u001b[38;5;241m=\u001b[39m\u001b[38;5;28;01mNone\u001b[39;00m, plot_mp\u001b[38;5;241m=\u001b[39m\u001b[38;5;28;01mFalse\u001b[39;00m):\n\u001b[1;32m    329\u001b[0m \u001b[38;5;250m    \u001b[39m\u001b[38;5;124;03m\"\"\"\u001b[39;00m\n\u001b[1;32m    330\u001b[0m \u001b[38;5;124;03m    Fits to data and projects it to the robust components\u001b[39;00m\n\u001b[1;32m    331\u001b[0m \n\u001b[0;32m   (...)\u001b[0m\n\u001b[1;32m    340\u001b[0m \u001b[38;5;124;03m        Projected data\u001b[39;00m\n\u001b[1;32m    341\u001b[0m \u001b[38;5;124;03m    \"\"\"\u001b[39;00m\n\u001b[0;32m--> 342\u001b[0m     \u001b[38;5;28;43mself\u001b[39;49m\u001b[38;5;241;43m.\u001b[39;49m\u001b[43mfit\u001b[49m\u001b[43m(\u001b[49m\u001b[43mdata\u001b[49m\u001b[43m,\u001b[49m\u001b[43m \u001b[49m\u001b[43mplot_mp\u001b[49m\u001b[38;5;241;43m=\u001b[39;49m\u001b[43mplot_mp\u001b[49m\u001b[43m)\u001b[49m\n\u001b[1;32m    343\u001b[0m     \u001b[38;5;28;01mreturn\u001b[39;00m \u001b[38;5;28mself\u001b[39m\u001b[38;5;241m.\u001b[39mtransform(\u001b[38;5;28mself\u001b[39m\u001b[38;5;241m.\u001b[39mX, preprocess\u001b[38;5;241m=\u001b[39m\u001b[38;5;28;01mFalse\u001b[39;00m)\n",
            "File \u001b[0;32m~/Documents/scLENS-py/scLENS/scLENS.py:196\u001b[0m, in \u001b[0;36mscLENS.fit\u001b[0;34m(self, data, plot_mp)\u001b[0m\n\u001b[1;32m    193\u001b[0m \u001b[38;5;28mself\u001b[39m\u001b[38;5;241m.\u001b[39m_signal_components \u001b[38;5;241m=\u001b[39m \u001b[38;5;28mself\u001b[39m\u001b[38;5;241m.\u001b[39m_PCA(\u001b[38;5;28mself\u001b[39m\u001b[38;5;241m.\u001b[39mX, plot_mp\u001b[38;5;241m=\u001b[39mplot_mp)\n\u001b[1;32m    195\u001b[0m \u001b[38;5;28;01mif\u001b[39;00m \u001b[38;5;28mself\u001b[39m\u001b[38;5;241m.\u001b[39msparsity \u001b[38;5;241m==\u001b[39m \u001b[38;5;124m'\u001b[39m\u001b[38;5;124mauto\u001b[39m\u001b[38;5;124m'\u001b[39m:\n\u001b[0;32m--> 196\u001b[0m     \u001b[38;5;28;43mself\u001b[39;49m\u001b[38;5;241;43m.\u001b[39;49m\u001b[43m_calculate_sparsity\u001b[49m\u001b[43m(\u001b[49m\u001b[43m)\u001b[49m\n\u001b[1;32m    198\u001b[0m n \u001b[38;5;241m=\u001b[39m \u001b[38;5;28mself\u001b[39m\u001b[38;5;241m.\u001b[39m_signal_components\u001b[38;5;241m.\u001b[39mshape[\u001b[38;5;241m1\u001b[39m] \u001b[38;5;241m*\u001b[39m \u001b[38;5;28mself\u001b[39m\u001b[38;5;241m.\u001b[39m_perturbed_n_scale\n\u001b[1;32m    199\u001b[0m \u001b[38;5;28;01mif\u001b[39;00m \u001b[38;5;28mself\u001b[39m\u001b[38;5;241m.\u001b[39mpreprocessed:\n",
            "File \u001b[0;32m~/Documents/scLENS-py/scLENS/scLENS.py:250\u001b[0m, in \u001b[0;36mscLENS._calculate_sparsity\u001b[0;34m(self)\u001b[0m\n\u001b[1;32m    247\u001b[0m rand\u001b[38;5;241m.\u001b[39mdata[:] \u001b[38;5;241m=\u001b[39m \u001b[38;5;241m1\u001b[39m\n\u001b[1;32m    248\u001b[0m rand \u001b[38;5;241m=\u001b[39m torch\u001b[38;5;241m.\u001b[39mtensor(rand\u001b[38;5;241m.\u001b[39mtoarray())\u001b[38;5;241m.\u001b[39mto(\u001b[38;5;28mself\u001b[39m\u001b[38;5;241m.\u001b[39mdevice)\n\u001b[0;32m--> 250\u001b[0m V \u001b[38;5;241m=\u001b[39m \u001b[38;5;28;43mself\u001b[39;49m\u001b[38;5;241;43m.\u001b[39;49m\u001b[43m_PCA_rand\u001b[49m\u001b[43m(\u001b[49m\u001b[43mrand\u001b[49m\u001b[43m,\u001b[49m\u001b[43m \u001b[49m\u001b[43mrand\u001b[49m\u001b[38;5;241;43m.\u001b[39;49m\u001b[43mshape\u001b[49m\u001b[43m[\u001b[49m\u001b[38;5;241;43m0\u001b[39;49m\u001b[43m]\u001b[49m\u001b[43m)\u001b[49m\n\u001b[1;32m    251\u001b[0m Vr\u001b[38;5;241m.\u001b[39mappend(V)\n\u001b[1;32m    253\u001b[0m \u001b[38;5;28;01mdel\u001b[39;00m rand\n",
            "File \u001b[0;32m~/Documents/scLENS-py/scLENS/scLENS.py:360\u001b[0m, in \u001b[0;36mscLENS._PCA_rand\u001b[0;34m(self, X, n)\u001b[0m\n\u001b[1;32m    358\u001b[0m \u001b[38;5;28;01mdef\u001b[39;00m \u001b[38;5;21m_PCA_rand\u001b[39m(\u001b[38;5;28mself\u001b[39m, X, n):\n\u001b[1;32m    359\u001b[0m     W \u001b[38;5;241m=\u001b[39m (X \u001b[38;5;241m@\u001b[39m torch\u001b[38;5;241m.\u001b[39mtranspose(X, \u001b[38;5;241m0\u001b[39m, \u001b[38;5;241m1\u001b[39m)) \u001b[38;5;241m/\u001b[39m X\u001b[38;5;241m.\u001b[39mshape[\u001b[38;5;241m1\u001b[39m]\n\u001b[0;32m--> 360\u001b[0m     _, V \u001b[38;5;241m=\u001b[39m \u001b[43mtorch\u001b[49m\u001b[38;5;241;43m.\u001b[39;49m\u001b[43mlinalg\u001b[49m\u001b[38;5;241;43m.\u001b[39;49m\u001b[43meigh\u001b[49m\u001b[43m(\u001b[49m\u001b[43mW\u001b[49m\u001b[43m)\u001b[49m\n\u001b[1;32m    362\u001b[0m     \u001b[38;5;28;01mdel\u001b[39;00m W\n\u001b[1;32m    363\u001b[0m     torch\u001b[38;5;241m.\u001b[39mcuda\u001b[38;5;241m.\u001b[39mempty_cache()\n",
            "\u001b[0;31mKeyboardInterrupt\u001b[0m: "
          ]
        }
      ],
      "source": [
        "chsr_score, mltk_score = evaluate(filepaths, save, overwrite=True, **params)"
      ]
    },
    {
      "cell_type": "code",
      "execution_count": null,
      "metadata": {
        "id": "MIVVCEqLe664"
      },
      "outputs": [],
      "source": [
        "save.mean()"
      ]
    },
    {
      "cell_type": "markdown",
      "metadata": {
        "id": "Kr5HM_i6hoKH"
      },
      "source": [
        "# Load Scores, Compare"
      ]
    },
    {
      "cell_type": "code",
      "execution_count": null,
      "metadata": {
        "id": "XJ-yeQo-2mkR"
      },
      "outputs": [],
      "source": [
        "import pandas as pd\n",
        "import matplotlib.pyplot as plt\n",
        "import numpy as np"
      ]
    },
    {
      "cell_type": "code",
      "execution_count": null,
      "metadata": {
        "id": "NTYGGZpE2zZ3"
      },
      "outputs": [],
      "source": [
        "from google.colab import drive\n",
        "drive.mount('/content/drive')\n",
        "%cd /content/drive/MyDrive/BIMAG"
      ]
    },
    {
      "cell_type": "code",
      "execution_count": null,
      "metadata": {
        "id": "rUaYiqS_x62d"
      },
      "outputs": [],
      "source": [
        "save_ecc = pd.read_csv('save.csv', index_col=0)\n",
        "save_ecc"
      ]
    },
    {
      "cell_type": "code",
      "execution_count": null,
      "metadata": {
        "id": "I_fSnoTZX61q"
      },
      "outputs": [],
      "source": [
        "save_rand_nmi = pd.read_csv('RandIndex_NMI.csv', index_col=0)\n",
        "save_rand_nmi"
      ]
    },
    {
      "cell_type": "code",
      "execution_count": null,
      "metadata": {
        "id": "Ae2kNDi9YDv6"
      },
      "outputs": [],
      "source": [
        "scl_scores = pd.concat([save_ecc, save_rand_nmi], axis=1)\n",
        "scl_scores = scl_scores.drop(['ChooseR_ECC', 'ChooseR_RandIndex', 'ChooseR_NormMI'], axis=1)\n",
        "scl_scores"
      ]
    },
    {
      "cell_type": "code",
      "execution_count": null,
      "metadata": {
        "id": "krFl-uqmZyO6"
      },
      "outputs": [],
      "source": [
        "scl_scores.mean()"
      ]
    },
    {
      "cell_type": "code",
      "execution_count": null,
      "metadata": {
        "id": "LCoJBOOSaBrW"
      },
      "outputs": [],
      "source": [
        "noscl_scores = pd.read_csv('save_no_sclens.csv', index_col=0)\n",
        "noscl_scores"
      ]
    },
    {
      "cell_type": "code",
      "execution_count": null,
      "metadata": {
        "id": "1yiJ6Ilyht7n"
      },
      "outputs": [],
      "source": [
        "scl_means = scl_scores.mean()\n",
        "noscl_means = noscl_scores.mean()\n",
        "\n",
        "scores = {'scLENS + MultiK': [scl_means['MultiK_RandIndex'], scl_means['MultiK_NormMI'], scl_means['MultiK_ECC']],\n",
        "          'MultiK': [noscl_means['MultiK_RandIndex'], noscl_means['MultiK_NormMI'], noscl_means['MultiK_ECC']]}\n",
        "schemes = ['Rand Index', 'Norm Mutual Information', 'Element-Centric']\n",
        "\n",
        "x = np.arange(len(schemes))\n",
        "width = 0.25\n",
        "multiplier = 0\n",
        "\n",
        "fig, ax = plt.subplots(layout='constrained')\n",
        "\n",
        "for name, val in scores.items():\n",
        "    offset = width * multiplier\n",
        "    rects = ax.bar(x + offset, val, width, label=name)\n",
        "    ax.bar_label(rects, padding=2)\n",
        "    multiplier += 1\n",
        "\n",
        "ax.set_ylabel('Score')\n",
        "ax.set_title('Mean Scores')\n",
        "ax.set_xticks(x + width/2, schemes)\n",
        "ax.legend(loc='upper right', ncols=2)\n",
        "\n",
        "plt.show()"
      ]
    },
    {
      "cell_type": "markdown",
      "metadata": {
        "id": "0IzHwRk0huLg"
      },
      "source": [
        "# Per Dataset"
      ]
    },
    {
      "cell_type": "code",
      "execution_count": null,
      "metadata": {
        "id": "vFPTCpUu3mMJ"
      },
      "outputs": [],
      "source": [
        "fig = plt.figure(figsize=(5, 10))\n",
        "ax = fig.add_subplot(111)\n",
        "\n",
        "for dataset in scl_scores.index:\n",
        "  scl = scl_scores.loc[dataset, 'MultiK_ECC']\n",
        "  noscl = noscl_scores.loc[dataset, 'MultiK_ECC']\n",
        "\n",
        "  ax.plot([0, 1], [noscl, scl], 'k--', linewidth=1)\n",
        "  ax.scatter(0, noscl, color='k')\n",
        "  ax.scatter(1, scl, color='k')\n",
        "\n",
        "ax.set_title('Per-Dataset ECC')\n",
        "ax.set_xticks([0, 1])\n",
        "ax.set_xticklabels(['No scLENS', 'scLENS'])\n",
        "ax.set_ylabel('ECC Score')\n",
        "\n",
        "plt.show()"
      ]
    },
    {
      "cell_type": "code",
      "execution_count": null,
      "metadata": {
        "id": "etMQPG1vcWYo"
      },
      "outputs": [],
      "source": [
        "fig = plt.figure(figsize=(5, 10))\n",
        "ax = fig.add_subplot(111)\n",
        "\n",
        "for dataset in scl_scores.index:\n",
        "  scl = scl_scores.loc[dataset, 'MultiK_RandIndex']\n",
        "  noscl = noscl_scores.loc[dataset, 'MultiK_RandIndex']\n",
        "\n",
        "  ax.plot([0, 1], [noscl, scl], 'k--', linewidth=1)\n",
        "  ax.scatter(0, noscl, color='k')\n",
        "  ax.scatter(1, scl, color='k')\n",
        "\n",
        "ax.set_title('Per-Dataset Rand Index')\n",
        "ax.set_xticks([0, 1])\n",
        "ax.set_xticklabels(['No scLENS', 'scLENS'])\n",
        "ax.set_ylabel('Rand Index Score')\n",
        "\n",
        "plt.show()"
      ]
    },
    {
      "cell_type": "code",
      "execution_count": null,
      "metadata": {
        "id": "X6-E_J4aeF4y"
      },
      "outputs": [],
      "source": [
        "fig = plt.figure(figsize=(5, 10))\n",
        "ax = fig.add_subplot(111)\n",
        "\n",
        "for dataset in scl_scores.index:\n",
        "  scl = scl_scores.loc[dataset, 'MultiK_NormMI']\n",
        "  noscl = noscl_scores.loc[dataset, 'MultiK_NormMI']\n",
        "\n",
        "  ax.plot([0, 1], [noscl, scl], 'k--', linewidth=1)\n",
        "  ax.scatter(0, noscl, color='k')\n",
        "  ax.scatter(1, scl, color='k')\n",
        "\n",
        "ax.set_title('Per-Dataset NMI')\n",
        "ax.set_xticks([0, 1])\n",
        "ax.set_xticklabels(['No scLENS', 'scLENS'])\n",
        "ax.set_ylabel('Norm Mutual Information Score')\n",
        "\n",
        "plt.show()"
      ]
    },
    {
      "cell_type": "markdown",
      "metadata": {
        "id": "CiYPB4HdhxJ3"
      },
      "source": [
        "# Investigate"
      ]
    },
    {
      "cell_type": "code",
      "execution_count": null,
      "metadata": {
        "id": "PDBVzNI6R5ex"
      },
      "outputs": [],
      "source": [
        "from scLENS.clustering import multiK"
      ]
    },
    {
      "cell_type": "code",
      "execution_count": null,
      "metadata": {
        "id": "umotCq_5eTtT"
      },
      "outputs": [],
      "source": [
        "scl_check = scl_scores.drop(['MultiK_RandIndex', 'MultiK_NormMI'], axis=1)[scl_scores['MultiK_ECC'] < noscl_scores['MultiK_ECC']]\n",
        "noscl_check = noscl_scores.drop(['MultiK_RandIndex', 'MultiK_NormMI'], axis=1)[scl_scores['MultiK_ECC'] < noscl_scores['MultiK_ECC']]\n",
        "scl_check"
      ]
    },
    {
      "cell_type": "code",
      "execution_count": null,
      "metadata": {
        "id": "8lKRy1IgfyiW"
      },
      "outputs": [],
      "source": [
        "noscl_check"
      ]
    },
    {
      "cell_type": "code",
      "execution_count": null,
      "metadata": {
        "id": "WwA4G0i2gRbp"
      },
      "outputs": [],
      "source": [
        "for dataset in scl_check.index:\n",
        "  df = pd.read_csv(dataset)\n",
        "  y_true = df['cell']\n",
        "  df = df.drop(['cell'], axis=1)\n",
        "\n",
        "  scl = scLENS(device=torch.device('cuda:0'))\n",
        "  scl.preprocess(df)\n",
        "  X_transform_scl = scl.fit_transform()\n",
        "  mltk_scl = scl.cluster(df, method='multiK', **params)\n",
        "\n",
        "  adata = anndata.AnnData(X=df, obs=pd.DataFrame(y_true))\n",
        "\n",
        "  sc.pp.filter_cells(adata, min_genes=200)\n",
        "  sc.pp.filter_genes(adata, min_cells=3)\n",
        "\n",
        "  sc.pp.calculate_qc_metrics(adata, percent_top=None, log1p=False, inplace=True)\n",
        "\n",
        "  adata = adata[adata.obs.n_genes_by_counts < 2500, :]\n",
        "\n",
        "  sc.pp.normalize_total(adata, target_sum=1e4)\n",
        "  sc.pp.log1p(adata)\n",
        "  sc.pp.highly_variable_genes(adata, min_mean=0.0125, max_mean=3, min_disp=0.5)\n",
        "  adata = adata[:, adata.var.highly_variable]\n",
        "  sc.pp.scale(adata, max_value=10)\n",
        "\n",
        "  sc.tl.pca(adata, svd_solver='arpack')\n",
        "\n",
        "  X_transform_noscl = adata.obsm['X_pca']\n",
        "  y_true_noscl = adata.obs['cell']\n",
        "\n",
        "  res = multiK(X_transform_noscl, **params)\n",
        "\n",
        "  mltk_noscl = find_clusters(X_transform_noscl,\n",
        "                             n_neighbors=20,\n",
        "                             min_weight=1/15,\n",
        "                             res=res,\n",
        "                             n_iterations=-1)\n",
        "\n",
        "  display_mappings(X_transform_scl, [y_true, mltk_scl], ['True', 'scLENS MultiK'])\n",
        "  display_mappings(X_transform_noscl, [y_true_noscl, mltk_noscl], ['True', 'No scLENS MultiK'])"
      ]
    },
    {
      "cell_type": "code",
      "execution_count": null,
      "metadata": {
        "id": "1TP4kwcWiJ48"
      },
      "outputs": [],
      "source": []
    }
  ],
  "metadata": {
    "accelerator": "GPU",
    "colab": {
      "gpuType": "V100",
      "machine_shape": "hm",
      "provenance": [],
      "toc_visible": true
    },
    "kernelspec": {
      "display_name": "Python 3",
      "name": "python3"
    },
    "language_info": {
      "codemirror_mode": {
        "name": "ipython",
        "version": 3
      },
      "file_extension": ".py",
      "mimetype": "text/x-python",
      "name": "python",
      "nbconvert_exporter": "python",
      "pygments_lexer": "ipython3",
      "version": "3.9.19"
    },
    "widgets": {
      "application/vnd.jupyter.widget-state+json": {
        "2892d619bab9419ea856830d0625655c": {
          "model_module": "@jupyter-widgets/controls",
          "model_module_version": "1.5.0",
          "model_name": "FloatProgressModel",
          "state": {
            "_dom_classes": [],
            "_model_module": "@jupyter-widgets/controls",
            "_model_module_version": "1.5.0",
            "_model_name": "FloatProgressModel",
            "_view_count": null,
            "_view_module": "@jupyter-widgets/controls",
            "_view_module_version": "1.5.0",
            "_view_name": "ProgressView",
            "bar_style": "success",
            "description": "",
            "description_tooltip": null,
            "layout": "IPY_MODEL_3a6ae9f335a740f5afe0aaeabb4c7484",
            "max": 10,
            "min": 0,
            "orientation": "horizontal",
            "style": "IPY_MODEL_42a8a760c9e74cf2a0ac334aef3ebc8f",
            "value": 10
          }
        },
        "3a6ae9f335a740f5afe0aaeabb4c7484": {
          "model_module": "@jupyter-widgets/base",
          "model_module_version": "1.2.0",
          "model_name": "LayoutModel",
          "state": {
            "_model_module": "@jupyter-widgets/base",
            "_model_module_version": "1.2.0",
            "_model_name": "LayoutModel",
            "_view_count": null,
            "_view_module": "@jupyter-widgets/base",
            "_view_module_version": "1.2.0",
            "_view_name": "LayoutView",
            "align_content": null,
            "align_items": null,
            "align_self": null,
            "border": null,
            "bottom": null,
            "display": null,
            "flex": null,
            "flex_flow": null,
            "grid_area": null,
            "grid_auto_columns": null,
            "grid_auto_flow": null,
            "grid_auto_rows": null,
            "grid_column": null,
            "grid_gap": null,
            "grid_row": null,
            "grid_template_areas": null,
            "grid_template_columns": null,
            "grid_template_rows": null,
            "height": null,
            "justify_content": null,
            "justify_items": null,
            "left": null,
            "margin": null,
            "max_height": null,
            "max_width": null,
            "min_height": null,
            "min_width": null,
            "object_fit": null,
            "object_position": null,
            "order": null,
            "overflow": null,
            "overflow_x": null,
            "overflow_y": null,
            "padding": null,
            "right": null,
            "top": null,
            "visibility": null,
            "width": null
          }
        },
        "3b449ce727a7452b973fad6fb02a3fd4": {
          "model_module": "@jupyter-widgets/controls",
          "model_module_version": "1.5.0",
          "model_name": "HBoxModel",
          "state": {
            "_dom_classes": [],
            "_model_module": "@jupyter-widgets/controls",
            "_model_module_version": "1.5.0",
            "_model_name": "HBoxModel",
            "_view_count": null,
            "_view_module": "@jupyter-widgets/controls",
            "_view_module_version": "1.5.0",
            "_view_name": "HBoxView",
            "box_style": "",
            "children": [
              "IPY_MODEL_c88f13feabf84c9d90e7b70365123955",
              "IPY_MODEL_2892d619bab9419ea856830d0625655c",
              "IPY_MODEL_4825af129efe45cab434c5cfe5cd8a78"
            ],
            "layout": "IPY_MODEL_68493fe32cae4854b47f3b45938c537d"
          }
        },
        "42a8a760c9e74cf2a0ac334aef3ebc8f": {
          "model_module": "@jupyter-widgets/controls",
          "model_module_version": "1.5.0",
          "model_name": "ProgressStyleModel",
          "state": {
            "_model_module": "@jupyter-widgets/controls",
            "_model_module_version": "1.5.0",
            "_model_name": "ProgressStyleModel",
            "_view_count": null,
            "_view_module": "@jupyter-widgets/base",
            "_view_module_version": "1.2.0",
            "_view_name": "StyleView",
            "bar_color": null,
            "description_width": ""
          }
        },
        "4825af129efe45cab434c5cfe5cd8a78": {
          "model_module": "@jupyter-widgets/controls",
          "model_module_version": "1.5.0",
          "model_name": "HTMLModel",
          "state": {
            "_dom_classes": [],
            "_model_module": "@jupyter-widgets/controls",
            "_model_module_version": "1.5.0",
            "_model_name": "HTMLModel",
            "_view_count": null,
            "_view_module": "@jupyter-widgets/controls",
            "_view_module_version": "1.5.0",
            "_view_name": "HTMLView",
            "description": "",
            "description_tooltip": null,
            "layout": "IPY_MODEL_fc576b1d528545c083352e9b68f116ec",
            "placeholder": "​",
            "style": "IPY_MODEL_b1233b3106454fa0a6b4f23aaed6f896",
            "value": " 10/10 [02:37&lt;00:00, 15.76s/it]"
          }
        },
        "6071851b61ec447ab3cbbb7bccb63362": {
          "model_module": "@jupyter-widgets/controls",
          "model_module_version": "1.5.0",
          "model_name": "DescriptionStyleModel",
          "state": {
            "_model_module": "@jupyter-widgets/controls",
            "_model_module_version": "1.5.0",
            "_model_name": "DescriptionStyleModel",
            "_view_count": null,
            "_view_module": "@jupyter-widgets/base",
            "_view_module_version": "1.2.0",
            "_view_name": "StyleView",
            "description_width": ""
          }
        },
        "68493fe32cae4854b47f3b45938c537d": {
          "model_module": "@jupyter-widgets/base",
          "model_module_version": "1.2.0",
          "model_name": "LayoutModel",
          "state": {
            "_model_module": "@jupyter-widgets/base",
            "_model_module_version": "1.2.0",
            "_model_name": "LayoutModel",
            "_view_count": null,
            "_view_module": "@jupyter-widgets/base",
            "_view_module_version": "1.2.0",
            "_view_name": "LayoutView",
            "align_content": null,
            "align_items": null,
            "align_self": null,
            "border": null,
            "bottom": null,
            "display": null,
            "flex": null,
            "flex_flow": null,
            "grid_area": null,
            "grid_auto_columns": null,
            "grid_auto_flow": null,
            "grid_auto_rows": null,
            "grid_column": null,
            "grid_gap": null,
            "grid_row": null,
            "grid_template_areas": null,
            "grid_template_columns": null,
            "grid_template_rows": null,
            "height": null,
            "justify_content": null,
            "justify_items": null,
            "left": null,
            "margin": null,
            "max_height": null,
            "max_width": null,
            "min_height": null,
            "min_width": null,
            "object_fit": null,
            "object_position": null,
            "order": null,
            "overflow": null,
            "overflow_x": null,
            "overflow_y": null,
            "padding": null,
            "right": null,
            "top": null,
            "visibility": null,
            "width": null
          }
        },
        "ab4fe61754334f69bc190ccbb689474f": {
          "model_module": "@jupyter-widgets/base",
          "model_module_version": "1.2.0",
          "model_name": "LayoutModel",
          "state": {
            "_model_module": "@jupyter-widgets/base",
            "_model_module_version": "1.2.0",
            "_model_name": "LayoutModel",
            "_view_count": null,
            "_view_module": "@jupyter-widgets/base",
            "_view_module_version": "1.2.0",
            "_view_name": "LayoutView",
            "align_content": null,
            "align_items": null,
            "align_self": null,
            "border": null,
            "bottom": null,
            "display": null,
            "flex": null,
            "flex_flow": null,
            "grid_area": null,
            "grid_auto_columns": null,
            "grid_auto_flow": null,
            "grid_auto_rows": null,
            "grid_column": null,
            "grid_gap": null,
            "grid_row": null,
            "grid_template_areas": null,
            "grid_template_columns": null,
            "grid_template_rows": null,
            "height": null,
            "justify_content": null,
            "justify_items": null,
            "left": null,
            "margin": null,
            "max_height": null,
            "max_width": null,
            "min_height": null,
            "min_width": null,
            "object_fit": null,
            "object_position": null,
            "order": null,
            "overflow": null,
            "overflow_x": null,
            "overflow_y": null,
            "padding": null,
            "right": null,
            "top": null,
            "visibility": null,
            "width": null
          }
        },
        "b1233b3106454fa0a6b4f23aaed6f896": {
          "model_module": "@jupyter-widgets/controls",
          "model_module_version": "1.5.0",
          "model_name": "DescriptionStyleModel",
          "state": {
            "_model_module": "@jupyter-widgets/controls",
            "_model_module_version": "1.5.0",
            "_model_name": "DescriptionStyleModel",
            "_view_count": null,
            "_view_module": "@jupyter-widgets/base",
            "_view_module_version": "1.2.0",
            "_view_name": "StyleView",
            "description_width": ""
          }
        },
        "c88f13feabf84c9d90e7b70365123955": {
          "model_module": "@jupyter-widgets/controls",
          "model_module_version": "1.5.0",
          "model_name": "HTMLModel",
          "state": {
            "_dom_classes": [],
            "_model_module": "@jupyter-widgets/controls",
            "_model_module_version": "1.5.0",
            "_model_name": "HTMLModel",
            "_view_count": null,
            "_view_module": "@jupyter-widgets/controls",
            "_view_module_version": "1.5.0",
            "_view_name": "HTMLView",
            "description": "",
            "description_tooltip": null,
            "layout": "IPY_MODEL_ab4fe61754334f69bc190ccbb689474f",
            "placeholder": "​",
            "style": "IPY_MODEL_6071851b61ec447ab3cbbb7bccb63362",
            "value": "100%"
          }
        },
        "fc576b1d528545c083352e9b68f116ec": {
          "model_module": "@jupyter-widgets/base",
          "model_module_version": "1.2.0",
          "model_name": "LayoutModel",
          "state": {
            "_model_module": "@jupyter-widgets/base",
            "_model_module_version": "1.2.0",
            "_model_name": "LayoutModel",
            "_view_count": null,
            "_view_module": "@jupyter-widgets/base",
            "_view_module_version": "1.2.0",
            "_view_name": "LayoutView",
            "align_content": null,
            "align_items": null,
            "align_self": null,
            "border": null,
            "bottom": null,
            "display": null,
            "flex": null,
            "flex_flow": null,
            "grid_area": null,
            "grid_auto_columns": null,
            "grid_auto_flow": null,
            "grid_auto_rows": null,
            "grid_column": null,
            "grid_gap": null,
            "grid_row": null,
            "grid_template_areas": null,
            "grid_template_columns": null,
            "grid_template_rows": null,
            "height": null,
            "justify_content": null,
            "justify_items": null,
            "left": null,
            "margin": null,
            "max_height": null,
            "max_width": null,
            "min_height": null,
            "min_width": null,
            "object_fit": null,
            "object_position": null,
            "order": null,
            "overflow": null,
            "overflow_x": null,
            "overflow_y": null,
            "padding": null,
            "right": null,
            "top": null,
            "visibility": null,
            "width": null
          }
        }
      }
    }
  },
  "nbformat": 4,
  "nbformat_minor": 0
}
